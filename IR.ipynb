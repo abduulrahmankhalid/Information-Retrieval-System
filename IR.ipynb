{
 "cells": [
  {
   "cell_type": "markdown",
   "metadata": {},
   "source": [
    "# **Imports**"
   ]
  },
  {
   "cell_type": "code",
   "execution_count": 236,
   "metadata": {},
   "outputs": [],
   "source": [
    "import os \n",
    "import numpy as np\n",
    "import pandas as pd\n",
    "import string\n",
    "\n",
    "pd.set_option('display.max_rows', 50)\n",
    "pd.set_option('display.max_columns', 50)\n",
    "\n",
    "import nltk\n",
    "\n",
    "from nltk.corpus import webtext\n",
    "from nltk.tokenize import word_tokenize \n",
    "from nltk.corpus import stopwords\n",
    "from nltk.stem import PorterStemmer \n",
    "\n",
    "# nltk.download('stopwords')\n",
    "# nltk.download('webtext')\n",
    "# nltk.download('punkt')"
   ]
  },
  {
   "cell_type": "markdown",
   "metadata": {},
   "source": [
    "# **Reading Files**"
   ]
  },
  {
   "cell_type": "code",
   "execution_count": 237,
   "metadata": {},
   "outputs": [
    {
     "data": {
      "text/plain": [
       "'antony brutus caeser cleopatra mercy worser'"
      ]
     },
     "execution_count": 237,
     "metadata": {},
     "output_type": "execute_result"
    }
   ],
   "source": [
    "Text1 = webtext.raw(r\"C:\\Users\\ahmed\\Desktop\\DocumentCollection\\Documents\\1.txt\")\n",
    "Text1"
   ]
  },
  {
   "cell_type": "code",
   "execution_count": 238,
   "metadata": {},
   "outputs": [
    {
     "data": {
      "text/plain": [
       "{'doc1': 'antony brutus caeser cleopatra mercy worser',\n",
       " 'doc2': 'antony brutus caeser calpurnia ',\n",
       " 'doc3': 'mercy worser',\n",
       " 'doc4': 'brutus caeser mercy worser',\n",
       " 'doc5': 'caeser mercy worser',\n",
       " 'doc6': 'antony caeser mercy ',\n",
       " 'doc7': 'angels fools fear in rush to tread where',\n",
       " 'doc8': 'angels fools fear in rush to tread where',\n",
       " 'doc9': 'angels fools in rush to tread where',\n",
       " 'doc10': 'fools fear in rush to tread where'}"
      ]
     },
     "execution_count": 238,
     "metadata": {},
     "output_type": "execute_result"
    }
   ],
   "source": [
    "Files = os.listdir(r\"C:\\Users\\ahmed\\Desktop\\DocumentCollection\\Documents\")\n",
    "\n",
    "Path_To_Files = r\"C:\\Users\\ahmed\\Desktop\\DocumentCollection\\Documents\"\n",
    "\n",
    "Text_Files = {}\n",
    "\n",
    "for i,file in enumerate(Files):  \n",
    "\n",
    "    Text_Files['doc' + str(i+1)] = webtext.raw( os.path.join(Path_To_Files ,str(i+1)+'.txt') )\n",
    "\n",
    "Text_Files"
   ]
  },
  {
   "cell_type": "code",
   "execution_count": 239,
   "metadata": {},
   "outputs": [
    {
     "data": {
      "text/plain": [
       "['antony brutus caeser cleopatra mercy worser',\n",
       " 'antony brutus caeser calpurnia ',\n",
       " 'mercy worser',\n",
       " 'brutus caeser mercy worser',\n",
       " 'caeser mercy worser',\n",
       " 'antony caeser mercy ',\n",
       " 'angels fools fear in rush to tread where',\n",
       " 'angels fools fear in rush to tread where',\n",
       " 'angels fools in rush to tread where',\n",
       " 'fools fear in rush to tread where']"
      ]
     },
     "execution_count": 239,
     "metadata": {},
     "output_type": "execute_result"
    }
   ],
   "source": [
    "Files = os.listdir(r\"C:\\Users\\ahmed\\Desktop\\DocumentCollection\\Documents\")\n",
    "\n",
    "Path_To_Files = r\"C:\\Users\\ahmed\\Desktop\\DocumentCollection\\Documents\"\n",
    "\n",
    "All_Text = []\n",
    "\n",
    "for i,file in enumerate(Files):\n",
    "\n",
    "    All_Text.append( webtext.raw( os.path.join(Path_To_Files ,str(i+1)+'.txt') ) )\n",
    "\n",
    "\n",
    "All_Text"
   ]
  },
  {
   "cell_type": "markdown",
   "metadata": {},
   "source": [
    "# **Word Tokenization**"
   ]
  },
  {
   "cell_type": "code",
   "execution_count": 240,
   "metadata": {},
   "outputs": [
    {
     "name": "stdout",
     "output_type": "stream",
     "text": [
      "['antony', 'brutus', 'caeser', 'cleopatra', 'mercy', 'worser']\n"
     ]
    }
   ],
   "source": [
    "print(word_tokenize(Text1))"
   ]
  },
  {
   "cell_type": "code",
   "execution_count": 241,
   "metadata": {},
   "outputs": [
    {
     "data": {
      "text/plain": [
       "[['antony', 'brutus', 'caeser', 'cleopatra', 'mercy', 'worser'],\n",
       " ['antony', 'brutus', 'caeser', 'calpurnia'],\n",
       " ['mercy', 'worser'],\n",
       " ['brutus', 'caeser', 'mercy', 'worser'],\n",
       " ['caeser', 'mercy', 'worser'],\n",
       " ['antony', 'caeser', 'mercy'],\n",
       " ['angels', 'fools', 'fear', 'in', 'rush', 'to', 'tread', 'where'],\n",
       " ['angels', 'fools', 'fear', 'in', 'rush', 'to', 'tread', 'where'],\n",
       " ['angels', 'fools', 'in', 'rush', 'to', 'tread', 'where'],\n",
       " ['fools', 'fear', 'in', 'rush', 'to', 'tread', 'where']]"
      ]
     },
     "execution_count": 241,
     "metadata": {},
     "output_type": "execute_result"
    }
   ],
   "source": [
    "All_Tokens = []\n",
    "\n",
    "for file in Text_Files.keys():\n",
    "    All_Tokens.append(word_tokenize(Text_Files[file]))\n",
    "\n",
    "All_Tokens"
   ]
  },
  {
   "cell_type": "code",
   "execution_count": 242,
   "metadata": {},
   "outputs": [
    {
     "data": {
      "text/plain": [
       "array(['antony', 'brutus', 'caeser', 'cleopatra', 'mercy', 'worser',\n",
       "       'antony', 'brutus', 'caeser', 'calpurnia', 'mercy', 'worser',\n",
       "       'brutus', 'caeser', 'mercy', 'worser', 'caeser', 'mercy', 'worser',\n",
       "       'antony', 'caeser', 'mercy', 'angels', 'fools', 'fear', 'in',\n",
       "       'rush', 'to', 'tread', 'where', 'angels', 'fools', 'fear', 'in',\n",
       "       'rush', 'to', 'tread', 'where', 'angels', 'fools', 'in', 'rush',\n",
       "       'to', 'tread', 'where', 'fools', 'fear', 'in', 'rush', 'to',\n",
       "       'tread', 'where'], dtype='<U9')"
      ]
     },
     "execution_count": 242,
     "metadata": {},
     "output_type": "execute_result"
    }
   ],
   "source": [
    "All_Tokens = np.concatenate(All_Tokens)\n",
    "All_Tokens"
   ]
  },
  {
   "cell_type": "markdown",
   "metadata": {},
   "source": [
    "# **Removing Stop Words**"
   ]
  },
  {
   "cell_type": "code",
   "execution_count": 243,
   "metadata": {},
   "outputs": [
    {
     "data": {
      "text/plain": [
       "179"
      ]
     },
     "execution_count": 243,
     "metadata": {},
     "output_type": "execute_result"
    }
   ],
   "source": [
    "Stop_Words = set( stopwords.words('english') )\n",
    "\n",
    "len(Stop_Words)"
   ]
  },
  {
   "cell_type": "markdown",
   "metadata": {},
   "source": [
    "**Excluding `['in','to','where']`**"
   ]
  },
  {
   "cell_type": "code",
   "execution_count": 244,
   "metadata": {},
   "outputs": [
    {
     "data": {
      "text/plain": [
       "176"
      ]
     },
     "execution_count": 244,
     "metadata": {},
     "output_type": "execute_result"
    }
   ],
   "source": [
    "Stop_Words_Excluded = Stop_Words.difference(['in','to','where'])\n",
    "\n",
    "len(Stop_Words_Excluded)"
   ]
  },
  {
   "cell_type": "code",
   "execution_count": 245,
   "metadata": {},
   "outputs": [
    {
     "data": {
      "text/plain": [
       "52"
      ]
     },
     "execution_count": 245,
     "metadata": {},
     "output_type": "execute_result"
    }
   ],
   "source": [
    "len(All_Tokens)"
   ]
  },
  {
   "cell_type": "code",
   "execution_count": 246,
   "metadata": {},
   "outputs": [
    {
     "data": {
      "text/plain": [
       "['antony',\n",
       " 'brutus',\n",
       " 'caeser',\n",
       " 'cleopatra',\n",
       " 'mercy',\n",
       " 'worser',\n",
       " 'antony',\n",
       " 'brutus',\n",
       " 'caeser',\n",
       " 'calpurnia',\n",
       " 'mercy',\n",
       " 'worser',\n",
       " 'brutus',\n",
       " 'caeser',\n",
       " 'mercy',\n",
       " 'worser',\n",
       " 'caeser',\n",
       " 'mercy',\n",
       " 'worser',\n",
       " 'antony',\n",
       " 'caeser',\n",
       " 'mercy',\n",
       " 'angels',\n",
       " 'fools',\n",
       " 'fear',\n",
       " 'in',\n",
       " 'rush',\n",
       " 'to',\n",
       " 'tread',\n",
       " 'where',\n",
       " 'angels',\n",
       " 'fools',\n",
       " 'fear',\n",
       " 'in',\n",
       " 'rush',\n",
       " 'to',\n",
       " 'tread',\n",
       " 'where',\n",
       " 'angels',\n",
       " 'fools',\n",
       " 'in',\n",
       " 'rush',\n",
       " 'to',\n",
       " 'tread',\n",
       " 'where',\n",
       " 'fools',\n",
       " 'fear',\n",
       " 'in',\n",
       " 'rush',\n",
       " 'to',\n",
       " 'tread',\n",
       " 'where']"
      ]
     },
     "execution_count": 246,
     "metadata": {},
     "output_type": "execute_result"
    }
   ],
   "source": [
    "Clean_Tokens = [word for word in All_Tokens if word not in Stop_Words_Excluded]\n",
    "\n",
    "Clean_Tokens"
   ]
  },
  {
   "cell_type": "code",
   "execution_count": 247,
   "metadata": {},
   "outputs": [
    {
     "data": {
      "text/plain": [
       "52"
      ]
     },
     "execution_count": 247,
     "metadata": {},
     "output_type": "execute_result"
    }
   ],
   "source": [
    "len(Clean_Tokens)"
   ]
  },
  {
   "cell_type": "code",
   "execution_count": 248,
   "metadata": {},
   "outputs": [
    {
     "data": {
      "text/plain": [
       "15"
      ]
     },
     "execution_count": 248,
     "metadata": {},
     "output_type": "execute_result"
    }
   ],
   "source": [
    "len(set(Clean_Tokens))"
   ]
  },
  {
   "cell_type": "code",
   "execution_count": 249,
   "metadata": {},
   "outputs": [
    {
     "data": {
      "text/plain": [
       "{'angels',\n",
       " 'antony',\n",
       " 'brutus',\n",
       " 'caeser',\n",
       " 'calpurnia',\n",
       " 'cleopatra',\n",
       " 'fear',\n",
       " 'fools',\n",
       " 'in',\n",
       " 'mercy',\n",
       " 'rush',\n",
       " 'to',\n",
       " 'tread',\n",
       " 'where',\n",
       " 'worser'}"
      ]
     },
     "execution_count": 249,
     "metadata": {},
     "output_type": "execute_result"
    }
   ],
   "source": [
    "Final_Tokens = set(Clean_Tokens)\n",
    "Final_Tokens"
   ]
  },
  {
   "cell_type": "code",
   "execution_count": 250,
   "metadata": {},
   "outputs": [],
   "source": [
    "def RemovePunctuation(text):\n",
    "\n",
    "    if type(text) == list:\n",
    "        cleanText = [sentence.translate(str.maketrans('', '', string.punctuation)) for sentence in text]\n",
    "\n",
    "    else:\n",
    "        cleanText = text.translate(str.maketrans('', '', string.punctuation))\n",
    "\n",
    "    return cleanText"
   ]
  },
  {
   "cell_type": "code",
   "execution_count": 251,
   "metadata": {},
   "outputs": [],
   "source": [
    "def Preprocess_Text(text):\n",
    "    \"\"\"\n",
    "    return passed text : Tokenized, Lowercased, Stopwords and Punctuation removed.\n",
    "    \"\"\"\n",
    "    \n",
    "    # Remove Punctuation\n",
    "    cleanText = RemovePunctuation(text)\n",
    "\n",
    "    # tokenize\n",
    "    textTokens = word_tokenize(cleanText)\n",
    "    \n",
    "    # remove stop words , lowercase words\n",
    "    cleanTextTokens = [word.lower() for word in textTokens if word not in Stop_Words_Excluded]\n",
    "\n",
    "    return cleanTextTokens"
   ]
  },
  {
   "cell_type": "code",
   "execution_count": 252,
   "metadata": {},
   "outputs": [
    {
     "data": {
      "text/plain": [
       "['antony', 'brutus', 'caeser', 'cleopatra', 'mercy', 'worser']"
      ]
     },
     "execution_count": 252,
     "metadata": {},
     "output_type": "execute_result"
    }
   ],
   "source": [
    "Preprocess_Text(All_Text[0])"
   ]
  },
  {
   "cell_type": "markdown",
   "metadata": {},
   "source": [
    "# ---------------------------------------------------------------------------------"
   ]
  },
  {
   "cell_type": "markdown",
   "metadata": {},
   "source": [
    "# **Making Postional Indexes**"
   ]
  },
  {
   "cell_type": "code",
   "execution_count": 253,
   "metadata": {},
   "outputs": [
    {
     "data": {
      "text/plain": [
       "{'doc1': 'antony brutus caeser cleopatra mercy worser',\n",
       " 'doc2': 'antony brutus caeser calpurnia ',\n",
       " 'doc3': 'mercy worser',\n",
       " 'doc4': 'brutus caeser mercy worser',\n",
       " 'doc5': 'caeser mercy worser',\n",
       " 'doc6': 'antony caeser mercy ',\n",
       " 'doc7': 'angels fools fear in rush to tread where',\n",
       " 'doc8': 'angels fools fear in rush to tread where',\n",
       " 'doc9': 'angels fools in rush to tread where',\n",
       " 'doc10': 'fools fear in rush to tread where'}"
      ]
     },
     "execution_count": 253,
     "metadata": {},
     "output_type": "execute_result"
    }
   ],
   "source": [
    "Text_Files"
   ]
  },
  {
   "cell_type": "code",
   "execution_count": 254,
   "metadata": {},
   "outputs": [
    {
     "data": {
      "text/plain": [
       "['antony brutus caeser cleopatra mercy worser',\n",
       " 'antony brutus caeser calpurnia ',\n",
       " 'mercy worser',\n",
       " 'brutus caeser mercy worser',\n",
       " 'caeser mercy worser',\n",
       " 'antony caeser mercy ',\n",
       " 'angels fools fear in rush to tread where',\n",
       " 'angels fools fear in rush to tread where',\n",
       " 'angels fools in rush to tread where',\n",
       " 'fools fear in rush to tread where']"
      ]
     },
     "execution_count": 254,
     "metadata": {},
     "output_type": "execute_result"
    }
   ],
   "source": [
    "All_Text"
   ]
  },
  {
   "cell_type": "markdown",
   "metadata": {},
   "source": [
    "**Generating Postings**"
   ]
  },
  {
   "cell_type": "code",
   "execution_count": 255,
   "metadata": {},
   "outputs": [],
   "source": [
    "Postings_DF = pd.DataFrame()\n",
    "\n",
    "frequency = pd.DataFrame()\n",
    "\n",
    "docNum = 1\n",
    "\n",
    "for text in All_Text:\n",
    "    \n",
    "    tokens = Preprocess_Text(text)\n",
    "    \n",
    "    pos = 0\n",
    "    \n",
    "    for token in tokens:\n",
    "        \n",
    "        if token in Postings_DF:\n",
    "            \n",
    "            PosList = Postings_DF[token][0]\n",
    "\n",
    "            PosList_docNums = [docNums[0] for docNums in PosList]\n",
    "            \n",
    "            if docNum in PosList_docNums: # word occurs more than once in the document\n",
    "                \n",
    "                for docNums in PosList:\n",
    "                    \n",
    "                    if docNums[0] == docNum:\n",
    "                        \n",
    "                        docNums[1].add(pos)\n",
    "            else:\n",
    "                PosList.append([docNum,{pos}]) # insert first posting\n",
    "                \n",
    "                frequency[token][0] += 1\n",
    "        else:\n",
    "            Postings_DF.insert(value= [[[docNum, {pos}]]] , loc=0, column=token) # insert all tokens first\n",
    "            \n",
    "            frequency.insert(value=[1], loc=0, column=token)\n",
    "\n",
    "        pos += 1\n",
    "    docNum += 1"
   ]
  },
  {
   "cell_type": "code",
   "execution_count": 256,
   "metadata": {},
   "outputs": [
    {
     "data": {
      "text/html": [
       "<div>\n",
       "<style scoped>\n",
       "    .dataframe tbody tr th:only-of-type {\n",
       "        vertical-align: middle;\n",
       "    }\n",
       "\n",
       "    .dataframe tbody tr th {\n",
       "        vertical-align: top;\n",
       "    }\n",
       "\n",
       "    .dataframe thead th {\n",
       "        text-align: right;\n",
       "    }\n",
       "</style>\n",
       "<table border=\"1\" class=\"dataframe\">\n",
       "  <thead>\n",
       "    <tr style=\"text-align: right;\">\n",
       "      <th></th>\n",
       "      <th>Postings</th>\n",
       "    </tr>\n",
       "  </thead>\n",
       "  <tbody>\n",
       "    <tr>\n",
       "      <th>where</th>\n",
       "      <td>[[7, {7}], [8, {7}], [9, {6}], [10, {6}]]</td>\n",
       "    </tr>\n",
       "    <tr>\n",
       "      <th>tread</th>\n",
       "      <td>[[7, {6}], [8, {6}], [9, {5}], [10, {5}]]</td>\n",
       "    </tr>\n",
       "    <tr>\n",
       "      <th>to</th>\n",
       "      <td>[[7, {5}], [8, {5}], [9, {4}], [10, {4}]]</td>\n",
       "    </tr>\n",
       "    <tr>\n",
       "      <th>rush</th>\n",
       "      <td>[[7, {4}], [8, {4}], [9, {3}], [10, {3}]]</td>\n",
       "    </tr>\n",
       "    <tr>\n",
       "      <th>in</th>\n",
       "      <td>[[7, {3}], [8, {3}], [9, {2}], [10, {2}]]</td>\n",
       "    </tr>\n",
       "    <tr>\n",
       "      <th>fear</th>\n",
       "      <td>[[7, {2}], [8, {2}], [10, {1}]]</td>\n",
       "    </tr>\n",
       "    <tr>\n",
       "      <th>fools</th>\n",
       "      <td>[[7, {1}], [8, {1}], [9, {1}], [10, {0}]]</td>\n",
       "    </tr>\n",
       "    <tr>\n",
       "      <th>angels</th>\n",
       "      <td>[[7, {0}], [8, {0}], [9, {0}]]</td>\n",
       "    </tr>\n",
       "    <tr>\n",
       "      <th>calpurnia</th>\n",
       "      <td>[[2, {3}]]</td>\n",
       "    </tr>\n",
       "    <tr>\n",
       "      <th>worser</th>\n",
       "      <td>[[1, {5}], [3, {1}], [4, {3}], [5, {2}]]</td>\n",
       "    </tr>\n",
       "    <tr>\n",
       "      <th>mercy</th>\n",
       "      <td>[[1, {4}], [3, {0}], [4, {2}], [5, {1}], [6, {...</td>\n",
       "    </tr>\n",
       "    <tr>\n",
       "      <th>cleopatra</th>\n",
       "      <td>[[1, {3}]]</td>\n",
       "    </tr>\n",
       "    <tr>\n",
       "      <th>caeser</th>\n",
       "      <td>[[1, {2}], [2, {2}], [4, {1}], [5, {0}], [6, {...</td>\n",
       "    </tr>\n",
       "    <tr>\n",
       "      <th>brutus</th>\n",
       "      <td>[[1, {1}], [2, {1}], [4, {0}]]</td>\n",
       "    </tr>\n",
       "    <tr>\n",
       "      <th>antony</th>\n",
       "      <td>[[1, {0}], [2, {0}], [6, {0}]]</td>\n",
       "    </tr>\n",
       "  </tbody>\n",
       "</table>\n",
       "</div>"
      ],
      "text/plain": [
       "                                                    Postings\n",
       "where              [[7, {7}], [8, {7}], [9, {6}], [10, {6}]]\n",
       "tread              [[7, {6}], [8, {6}], [9, {5}], [10, {5}]]\n",
       "to                 [[7, {5}], [8, {5}], [9, {4}], [10, {4}]]\n",
       "rush               [[7, {4}], [8, {4}], [9, {3}], [10, {3}]]\n",
       "in                 [[7, {3}], [8, {3}], [9, {2}], [10, {2}]]\n",
       "fear                         [[7, {2}], [8, {2}], [10, {1}]]\n",
       "fools              [[7, {1}], [8, {1}], [9, {1}], [10, {0}]]\n",
       "angels                        [[7, {0}], [8, {0}], [9, {0}]]\n",
       "calpurnia                                         [[2, {3}]]\n",
       "worser              [[1, {5}], [3, {1}], [4, {3}], [5, {2}]]\n",
       "mercy      [[1, {4}], [3, {0}], [4, {2}], [5, {1}], [6, {...\n",
       "cleopatra                                         [[1, {3}]]\n",
       "caeser     [[1, {2}], [2, {2}], [4, {1}], [5, {0}], [6, {...\n",
       "brutus                        [[1, {1}], [2, {1}], [4, {0}]]\n",
       "antony                        [[1, {0}], [2, {0}], [6, {0}]]"
      ]
     },
     "execution_count": 256,
     "metadata": {},
     "output_type": "execute_result"
    }
   ],
   "source": [
    "Postings_DF = Postings_DF.rename({0:'Postings'})\n",
    "Postings_DF.T"
   ]
  },
  {
   "cell_type": "code",
   "execution_count": 257,
   "metadata": {
    "scrolled": false
   },
   "outputs": [
    {
     "data": {
      "text/html": [
       "<div>\n",
       "<style scoped>\n",
       "    .dataframe tbody tr th:only-of-type {\n",
       "        vertical-align: middle;\n",
       "    }\n",
       "\n",
       "    .dataframe tbody tr th {\n",
       "        vertical-align: top;\n",
       "    }\n",
       "\n",
       "    .dataframe thead th {\n",
       "        text-align: right;\n",
       "    }\n",
       "</style>\n",
       "<table border=\"1\" class=\"dataframe\">\n",
       "  <thead>\n",
       "    <tr style=\"text-align: right;\">\n",
       "      <th></th>\n",
       "      <th>Frequency</th>\n",
       "    </tr>\n",
       "  </thead>\n",
       "  <tbody>\n",
       "    <tr>\n",
       "      <th>where</th>\n",
       "      <td>4</td>\n",
       "    </tr>\n",
       "    <tr>\n",
       "      <th>tread</th>\n",
       "      <td>4</td>\n",
       "    </tr>\n",
       "    <tr>\n",
       "      <th>to</th>\n",
       "      <td>4</td>\n",
       "    </tr>\n",
       "    <tr>\n",
       "      <th>rush</th>\n",
       "      <td>4</td>\n",
       "    </tr>\n",
       "    <tr>\n",
       "      <th>in</th>\n",
       "      <td>4</td>\n",
       "    </tr>\n",
       "    <tr>\n",
       "      <th>fear</th>\n",
       "      <td>3</td>\n",
       "    </tr>\n",
       "    <tr>\n",
       "      <th>fools</th>\n",
       "      <td>4</td>\n",
       "    </tr>\n",
       "    <tr>\n",
       "      <th>angels</th>\n",
       "      <td>3</td>\n",
       "    </tr>\n",
       "    <tr>\n",
       "      <th>calpurnia</th>\n",
       "      <td>1</td>\n",
       "    </tr>\n",
       "    <tr>\n",
       "      <th>worser</th>\n",
       "      <td>4</td>\n",
       "    </tr>\n",
       "    <tr>\n",
       "      <th>mercy</th>\n",
       "      <td>5</td>\n",
       "    </tr>\n",
       "    <tr>\n",
       "      <th>cleopatra</th>\n",
       "      <td>1</td>\n",
       "    </tr>\n",
       "    <tr>\n",
       "      <th>caeser</th>\n",
       "      <td>5</td>\n",
       "    </tr>\n",
       "    <tr>\n",
       "      <th>brutus</th>\n",
       "      <td>3</td>\n",
       "    </tr>\n",
       "    <tr>\n",
       "      <th>antony</th>\n",
       "      <td>3</td>\n",
       "    </tr>\n",
       "  </tbody>\n",
       "</table>\n",
       "</div>"
      ],
      "text/plain": [
       "           Frequency\n",
       "where              4\n",
       "tread              4\n",
       "to                 4\n",
       "rush               4\n",
       "in                 4\n",
       "fear               3\n",
       "fools              4\n",
       "angels             3\n",
       "calpurnia          1\n",
       "worser             4\n",
       "mercy              5\n",
       "cleopatra          1\n",
       "caeser             5\n",
       "brutus             3\n",
       "antony             3"
      ]
     },
     "execution_count": 257,
     "metadata": {},
     "output_type": "execute_result"
    }
   ],
   "source": [
    "frequency = frequency.rename({0:'Frequency'})\n",
    "frequency.T"
   ]
  },
  {
   "cell_type": "markdown",
   "metadata": {},
   "source": [
    "# **Postional Index Queries**"
   ]
  },
  {
   "cell_type": "code",
   "execution_count": 258,
   "metadata": {},
   "outputs": [],
   "source": [
    "def Get_Matched_DocNums_WordsPostions(posting_values, doc):\n",
    "    \"\"\"\n",
    "    Checks if passed postings docNumbers = passed docNumbers\n",
    "\n",
    "    returns passed postings (postions) that satisfy the condition.\n",
    "    \"\"\"\n",
    "\n",
    "    for posting_value in posting_values:\n",
    "        \n",
    "        if posting_value[0] == doc:\n",
    "            \n",
    "            return posting_value[1]\n",
    "\n",
    "    return []"
   ]
  },
  {
   "cell_type": "code",
   "execution_count": 259,
   "metadata": {},
   "outputs": [],
   "source": [
    "def Intial_Matchings_Postings(word):\n",
    "    \"\"\"\n",
    "    return list containing passed first query token : [docNumber , postions]\n",
    "    \"\"\"\n",
    "\n",
    "    firstPostings = []\n",
    "\n",
    "    word_postings = Postings_DF[word][0]\n",
    "\n",
    "    for word_posting in word_postings:\n",
    "\n",
    "        for positions in word_posting[1]:\n",
    "\n",
    "            firstPostings.append((word_posting[0], positions))\n",
    "            \n",
    "    return firstPostings"
   ]
  },
  {
   "cell_type": "code",
   "execution_count": 260,
   "metadata": {},
   "outputs": [],
   "source": [
    "def Match_Positional_Index(First_Postings, RemainQuery):\n",
    "    \"\"\"\n",
    "    Check if First_Postings token postion comes after RemainQuery tokens postion in Postings_DF. (same for remaining tokens in RemainQuery)\n",
    "\n",
    "    return list containing Macthed Documents Numbers\n",
    "    \"\"\"\n",
    "\n",
    "    Documents_Matched = []\n",
    "    \n",
    "    for postings in First_Postings: # [docNumber , postions]\n",
    "\n",
    "        First_Postings_docNum = postings[0] # docNumber\n",
    "        \n",
    "        First_Postings_Postion = postings[1] # postion\n",
    "\n",
    "        matchedCounts = 0\n",
    "\n",
    "        for remainToken in RemainQuery:\n",
    "\n",
    "            First_Postings_Postion = First_Postings_Postion + 1 # to check if next token comes after this postion\n",
    "\n",
    "            remainToken_Postings = Postings_DF[remainToken][0] # get remain token postings\n",
    "\n",
    "            remainToken_DocNums = [ docNums[0] for docNums in remainToken_Postings ] # get remain token docNums\n",
    "\n",
    "\n",
    "            if First_Postings_docNum in remainToken_DocNums: \n",
    "\n",
    "                Matched_DocNums_WordsPostions = Get_Matched_DocNums_WordsPostions( remainToken_Postings, First_Postings_docNum )\n",
    "\n",
    "                if First_Postings_Postion in Matched_DocNums_WordsPostions:\n",
    "\n",
    "                    matchedCounts += 1\n",
    "                    \n",
    "                else:\n",
    "                    \n",
    "                    break\n",
    "\n",
    "\n",
    "            if matchedCounts == len(RemainQuery): # if it matches all query tokens\n",
    "\n",
    "                Documents_Matched.append( First_Postings_docNum ) # append docNum from first postings\n",
    "                \n",
    "    \n",
    "    return set(Documents_Matched)"
   ]
  },
  {
   "cell_type": "code",
   "execution_count": 261,
   "metadata": {},
   "outputs": [],
   "source": [
    "def get_Postional_Matches(query):\n",
    "    \"\"\"\n",
    "    Preprocess query , Return query tokens matched document files.\n",
    "    \"\"\"\n",
    "\n",
    "    query_tokens = Preprocess_Text(query)\n",
    "\n",
    "    print( \"Query Tokens :\" , query_tokens)\n",
    "    \n",
    "    # Query Only One Word\n",
    "    \n",
    "    if len(query_tokens)==1:\n",
    "\n",
    "        MatchedDocs = [ docNums[0] for docNums in Postings_DF[ query_tokens[0] ][0] ]\n",
    "\n",
    "        MatchedDocs = ['doc'+str(x) for x in MatchedDocs]\n",
    "\n",
    "        print(\"Matched Document Files :\", MatchedDocs); print('\\n')\n",
    "    \n",
    "        return MatchedDocs\n",
    "\n",
    "    \n",
    "    # Get Fisrt Postions\n",
    "    First_Postings = Intial_Matchings_Postings( query_tokens[0] )\n",
    "\n",
    "    RemainQuery = query_tokens[1:]\n",
    "\n",
    "    # Get Matched Documnets\n",
    "    \n",
    "    MatchedDocs = Match_Positional_Index(First_Postings, RemainQuery)\n",
    "\n",
    "    # Handling Output\n",
    "\n",
    "    MatchedDocs = ['doc'+str(x) for x in MatchedDocs]\n",
    "\n",
    "    print(\"Matched Document Files :\", MatchedDocs); print('\\n')\n",
    "    \n",
    "    return MatchedDocs"
   ]
  },
  {
   "cell_type": "code",
   "execution_count": 262,
   "metadata": {},
   "outputs": [],
   "source": [
    "def Print_ResultFiles(results):\n",
    "\n",
    "    for res in results:\n",
    "        print( res + \" : \" + Text_Files[res])"
   ]
  },
  {
   "cell_type": "code",
   "execution_count": 263,
   "metadata": {},
   "outputs": [
    {
     "name": "stdout",
     "output_type": "stream",
     "text": [
      "Query Tokens : ['antony', 'brutus']\n",
      "Matched Document Files : ['doc1', 'doc2']\n",
      "\n",
      "\n"
     ]
    }
   ],
   "source": [
    "query = 'antony brutus'\n",
    "\n",
    "Postional_results = get_Postional_Matches(query)"
   ]
  },
  {
   "cell_type": "code",
   "execution_count": 264,
   "metadata": {},
   "outputs": [
    {
     "name": "stdout",
     "output_type": "stream",
     "text": [
      "Postional Index Matched Documents: \n",
      "doc1 : antony brutus caeser cleopatra mercy worser\n",
      "doc2 : antony brutus caeser calpurnia \n"
     ]
    }
   ],
   "source": [
    "print('Postional Index Matched Documents: ')\n",
    "\n",
    "Print_ResultFiles(Postional_results)"
   ]
  },
  {
   "cell_type": "markdown",
   "metadata": {},
   "source": [
    "# ---------------------------------------------------------------------------------"
   ]
  },
  {
   "cell_type": "markdown",
   "metadata": {},
   "source": [
    "# **Documents Vectorizing**"
   ]
  },
  {
   "cell_type": "markdown",
   "metadata": {},
   "source": [
    "## **TF and w tf(1+ log tf)**"
   ]
  },
  {
   "cell_type": "markdown",
   "metadata": {},
   "source": [
    "### **TF**"
   ]
  },
  {
   "cell_type": "code",
   "execution_count": 265,
   "metadata": {},
   "outputs": [
    {
     "data": {
      "text/plain": [
       "['antony brutus caeser cleopatra mercy worser',\n",
       " 'antony brutus caeser calpurnia ',\n",
       " 'mercy worser',\n",
       " 'brutus caeser mercy worser',\n",
       " 'caeser mercy worser',\n",
       " 'antony caeser mercy ',\n",
       " 'angels fools fear in rush to tread where',\n",
       " 'angels fools fear in rush to tread where',\n",
       " 'angels fools in rush to tread where',\n",
       " 'fools fear in rush to tread where']"
      ]
     },
     "execution_count": 265,
     "metadata": {},
     "output_type": "execute_result"
    }
   ],
   "source": [
    "All_Text"
   ]
  },
  {
   "cell_type": "code",
   "execution_count": 266,
   "metadata": {},
   "outputs": [],
   "source": [
    "Tokens = ['antony','brutus','caeser','calpurnia','cleopatra','mercy','worser',\n",
    "          'angels','fools','fear','in','rush','to','tread','where']"
   ]
  },
  {
   "cell_type": "code",
   "execution_count": 267,
   "metadata": {},
   "outputs": [
    {
     "data": {
      "text/plain": [
       "{'antony': 0,\n",
       " 'brutus': 0,\n",
       " 'caeser': 0,\n",
       " 'calpurnia': 0,\n",
       " 'cleopatra': 0,\n",
       " 'mercy': 0,\n",
       " 'worser': 0,\n",
       " 'angels': 0,\n",
       " 'fools': 0,\n",
       " 'fear': 0,\n",
       " 'in': 0,\n",
       " 'rush': 0,\n",
       " 'to': 0,\n",
       " 'tread': 0,\n",
       " 'where': 0}"
      ]
     },
     "execution_count": 267,
     "metadata": {},
     "output_type": "execute_result"
    }
   ],
   "source": [
    "Temp_TF = {token : 0 for token in Tokens}\n",
    "Temp_TF"
   ]
  },
  {
   "cell_type": "code",
   "execution_count": 268,
   "metadata": {},
   "outputs": [],
   "source": [
    "def Calculate_TF(All_Text):\n",
    "    \n",
    "    TF = {}\n",
    "\n",
    "    for i,doc in enumerate(All_Text):\n",
    "        Temp_TF = {token : 0 for token in Tokens}\n",
    "\n",
    "        for word in doc.split():\n",
    "\n",
    "            if Temp_TF[word] == 0:\n",
    "                \n",
    "                Temp_TF[word] = 1\n",
    "            else:\n",
    "\n",
    "                Temp_TF[word] += 1\n",
    "\n",
    "        TF['doc' +str(i+1)] =  Temp_TF\n",
    "    \n",
    "    return pd.DataFrame(TF)"
   ]
  },
  {
   "cell_type": "code",
   "execution_count": 269,
   "metadata": {},
   "outputs": [
    {
     "data": {
      "text/html": [
       "<style type=\"text/css\">\n",
       "#T_0947b_row0_col0, #T_0947b_row0_col1, #T_0947b_row0_col5, #T_0947b_row1_col0, #T_0947b_row1_col1, #T_0947b_row1_col3, #T_0947b_row2_col0, #T_0947b_row2_col1, #T_0947b_row2_col3, #T_0947b_row2_col4, #T_0947b_row2_col5, #T_0947b_row3_col1, #T_0947b_row4_col0, #T_0947b_row5_col0, #T_0947b_row5_col2, #T_0947b_row5_col3, #T_0947b_row5_col4, #T_0947b_row5_col5, #T_0947b_row6_col0, #T_0947b_row6_col2, #T_0947b_row6_col3, #T_0947b_row6_col4, #T_0947b_row7_col6, #T_0947b_row7_col7, #T_0947b_row7_col8, #T_0947b_row8_col6, #T_0947b_row8_col7, #T_0947b_row8_col8, #T_0947b_row8_col9, #T_0947b_row9_col6, #T_0947b_row9_col7, #T_0947b_row9_col9, #T_0947b_row10_col6, #T_0947b_row10_col7, #T_0947b_row10_col8, #T_0947b_row10_col9, #T_0947b_row11_col6, #T_0947b_row11_col7, #T_0947b_row11_col8, #T_0947b_row11_col9, #T_0947b_row12_col6, #T_0947b_row12_col7, #T_0947b_row12_col8, #T_0947b_row12_col9, #T_0947b_row13_col6, #T_0947b_row13_col7, #T_0947b_row13_col8, #T_0947b_row13_col9, #T_0947b_row14_col6, #T_0947b_row14_col7, #T_0947b_row14_col8, #T_0947b_row14_col9 {\n",
       "  background-color: #023858;\n",
       "  color: #f1f1f1;\n",
       "}\n",
       "#T_0947b_row0_col2, #T_0947b_row0_col3, #T_0947b_row0_col4, #T_0947b_row0_col6, #T_0947b_row0_col7, #T_0947b_row0_col8, #T_0947b_row0_col9, #T_0947b_row1_col2, #T_0947b_row1_col4, #T_0947b_row1_col5, #T_0947b_row1_col6, #T_0947b_row1_col7, #T_0947b_row1_col8, #T_0947b_row1_col9, #T_0947b_row2_col2, #T_0947b_row2_col6, #T_0947b_row2_col7, #T_0947b_row2_col8, #T_0947b_row2_col9, #T_0947b_row3_col0, #T_0947b_row3_col2, #T_0947b_row3_col3, #T_0947b_row3_col4, #T_0947b_row3_col5, #T_0947b_row3_col6, #T_0947b_row3_col7, #T_0947b_row3_col8, #T_0947b_row3_col9, #T_0947b_row4_col1, #T_0947b_row4_col2, #T_0947b_row4_col3, #T_0947b_row4_col4, #T_0947b_row4_col5, #T_0947b_row4_col6, #T_0947b_row4_col7, #T_0947b_row4_col8, #T_0947b_row4_col9, #T_0947b_row5_col1, #T_0947b_row5_col6, #T_0947b_row5_col7, #T_0947b_row5_col8, #T_0947b_row5_col9, #T_0947b_row6_col1, #T_0947b_row6_col5, #T_0947b_row6_col6, #T_0947b_row6_col7, #T_0947b_row6_col8, #T_0947b_row6_col9, #T_0947b_row7_col0, #T_0947b_row7_col1, #T_0947b_row7_col2, #T_0947b_row7_col3, #T_0947b_row7_col4, #T_0947b_row7_col5, #T_0947b_row7_col9, #T_0947b_row8_col0, #T_0947b_row8_col1, #T_0947b_row8_col2, #T_0947b_row8_col3, #T_0947b_row8_col4, #T_0947b_row8_col5, #T_0947b_row9_col0, #T_0947b_row9_col1, #T_0947b_row9_col2, #T_0947b_row9_col3, #T_0947b_row9_col4, #T_0947b_row9_col5, #T_0947b_row9_col8, #T_0947b_row10_col0, #T_0947b_row10_col1, #T_0947b_row10_col2, #T_0947b_row10_col3, #T_0947b_row10_col4, #T_0947b_row10_col5, #T_0947b_row11_col0, #T_0947b_row11_col1, #T_0947b_row11_col2, #T_0947b_row11_col3, #T_0947b_row11_col4, #T_0947b_row11_col5, #T_0947b_row12_col0, #T_0947b_row12_col1, #T_0947b_row12_col2, #T_0947b_row12_col3, #T_0947b_row12_col4, #T_0947b_row12_col5, #T_0947b_row13_col0, #T_0947b_row13_col1, #T_0947b_row13_col2, #T_0947b_row13_col3, #T_0947b_row13_col4, #T_0947b_row13_col5, #T_0947b_row14_col0, #T_0947b_row14_col1, #T_0947b_row14_col2, #T_0947b_row14_col3, #T_0947b_row14_col4, #T_0947b_row14_col5 {\n",
       "  background-color: #fff7fb;\n",
       "  color: #000000;\n",
       "}\n",
       "</style>\n",
       "<table id=\"T_0947b\">\n",
       "  <thead>\n",
       "    <tr>\n",
       "      <th class=\"blank level0\" >&nbsp;</th>\n",
       "      <th id=\"T_0947b_level0_col0\" class=\"col_heading level0 col0\" >doc1</th>\n",
       "      <th id=\"T_0947b_level0_col1\" class=\"col_heading level0 col1\" >doc2</th>\n",
       "      <th id=\"T_0947b_level0_col2\" class=\"col_heading level0 col2\" >doc3</th>\n",
       "      <th id=\"T_0947b_level0_col3\" class=\"col_heading level0 col3\" >doc4</th>\n",
       "      <th id=\"T_0947b_level0_col4\" class=\"col_heading level0 col4\" >doc5</th>\n",
       "      <th id=\"T_0947b_level0_col5\" class=\"col_heading level0 col5\" >doc6</th>\n",
       "      <th id=\"T_0947b_level0_col6\" class=\"col_heading level0 col6\" >doc7</th>\n",
       "      <th id=\"T_0947b_level0_col7\" class=\"col_heading level0 col7\" >doc8</th>\n",
       "      <th id=\"T_0947b_level0_col8\" class=\"col_heading level0 col8\" >doc9</th>\n",
       "      <th id=\"T_0947b_level0_col9\" class=\"col_heading level0 col9\" >doc10</th>\n",
       "    </tr>\n",
       "  </thead>\n",
       "  <tbody>\n",
       "    <tr>\n",
       "      <th id=\"T_0947b_level0_row0\" class=\"row_heading level0 row0\" >antony</th>\n",
       "      <td id=\"T_0947b_row0_col0\" class=\"data row0 col0\" >1</td>\n",
       "      <td id=\"T_0947b_row0_col1\" class=\"data row0 col1\" >1</td>\n",
       "      <td id=\"T_0947b_row0_col2\" class=\"data row0 col2\" >0</td>\n",
       "      <td id=\"T_0947b_row0_col3\" class=\"data row0 col3\" >0</td>\n",
       "      <td id=\"T_0947b_row0_col4\" class=\"data row0 col4\" >0</td>\n",
       "      <td id=\"T_0947b_row0_col5\" class=\"data row0 col5\" >1</td>\n",
       "      <td id=\"T_0947b_row0_col6\" class=\"data row0 col6\" >0</td>\n",
       "      <td id=\"T_0947b_row0_col7\" class=\"data row0 col7\" >0</td>\n",
       "      <td id=\"T_0947b_row0_col8\" class=\"data row0 col8\" >0</td>\n",
       "      <td id=\"T_0947b_row0_col9\" class=\"data row0 col9\" >0</td>\n",
       "    </tr>\n",
       "    <tr>\n",
       "      <th id=\"T_0947b_level0_row1\" class=\"row_heading level0 row1\" >brutus</th>\n",
       "      <td id=\"T_0947b_row1_col0\" class=\"data row1 col0\" >1</td>\n",
       "      <td id=\"T_0947b_row1_col1\" class=\"data row1 col1\" >1</td>\n",
       "      <td id=\"T_0947b_row1_col2\" class=\"data row1 col2\" >0</td>\n",
       "      <td id=\"T_0947b_row1_col3\" class=\"data row1 col3\" >1</td>\n",
       "      <td id=\"T_0947b_row1_col4\" class=\"data row1 col4\" >0</td>\n",
       "      <td id=\"T_0947b_row1_col5\" class=\"data row1 col5\" >0</td>\n",
       "      <td id=\"T_0947b_row1_col6\" class=\"data row1 col6\" >0</td>\n",
       "      <td id=\"T_0947b_row1_col7\" class=\"data row1 col7\" >0</td>\n",
       "      <td id=\"T_0947b_row1_col8\" class=\"data row1 col8\" >0</td>\n",
       "      <td id=\"T_0947b_row1_col9\" class=\"data row1 col9\" >0</td>\n",
       "    </tr>\n",
       "    <tr>\n",
       "      <th id=\"T_0947b_level0_row2\" class=\"row_heading level0 row2\" >caeser</th>\n",
       "      <td id=\"T_0947b_row2_col0\" class=\"data row2 col0\" >1</td>\n",
       "      <td id=\"T_0947b_row2_col1\" class=\"data row2 col1\" >1</td>\n",
       "      <td id=\"T_0947b_row2_col2\" class=\"data row2 col2\" >0</td>\n",
       "      <td id=\"T_0947b_row2_col3\" class=\"data row2 col3\" >1</td>\n",
       "      <td id=\"T_0947b_row2_col4\" class=\"data row2 col4\" >1</td>\n",
       "      <td id=\"T_0947b_row2_col5\" class=\"data row2 col5\" >1</td>\n",
       "      <td id=\"T_0947b_row2_col6\" class=\"data row2 col6\" >0</td>\n",
       "      <td id=\"T_0947b_row2_col7\" class=\"data row2 col7\" >0</td>\n",
       "      <td id=\"T_0947b_row2_col8\" class=\"data row2 col8\" >0</td>\n",
       "      <td id=\"T_0947b_row2_col9\" class=\"data row2 col9\" >0</td>\n",
       "    </tr>\n",
       "    <tr>\n",
       "      <th id=\"T_0947b_level0_row3\" class=\"row_heading level0 row3\" >calpurnia</th>\n",
       "      <td id=\"T_0947b_row3_col0\" class=\"data row3 col0\" >0</td>\n",
       "      <td id=\"T_0947b_row3_col1\" class=\"data row3 col1\" >1</td>\n",
       "      <td id=\"T_0947b_row3_col2\" class=\"data row3 col2\" >0</td>\n",
       "      <td id=\"T_0947b_row3_col3\" class=\"data row3 col3\" >0</td>\n",
       "      <td id=\"T_0947b_row3_col4\" class=\"data row3 col4\" >0</td>\n",
       "      <td id=\"T_0947b_row3_col5\" class=\"data row3 col5\" >0</td>\n",
       "      <td id=\"T_0947b_row3_col6\" class=\"data row3 col6\" >0</td>\n",
       "      <td id=\"T_0947b_row3_col7\" class=\"data row3 col7\" >0</td>\n",
       "      <td id=\"T_0947b_row3_col8\" class=\"data row3 col8\" >0</td>\n",
       "      <td id=\"T_0947b_row3_col9\" class=\"data row3 col9\" >0</td>\n",
       "    </tr>\n",
       "    <tr>\n",
       "      <th id=\"T_0947b_level0_row4\" class=\"row_heading level0 row4\" >cleopatra</th>\n",
       "      <td id=\"T_0947b_row4_col0\" class=\"data row4 col0\" >1</td>\n",
       "      <td id=\"T_0947b_row4_col1\" class=\"data row4 col1\" >0</td>\n",
       "      <td id=\"T_0947b_row4_col2\" class=\"data row4 col2\" >0</td>\n",
       "      <td id=\"T_0947b_row4_col3\" class=\"data row4 col3\" >0</td>\n",
       "      <td id=\"T_0947b_row4_col4\" class=\"data row4 col4\" >0</td>\n",
       "      <td id=\"T_0947b_row4_col5\" class=\"data row4 col5\" >0</td>\n",
       "      <td id=\"T_0947b_row4_col6\" class=\"data row4 col6\" >0</td>\n",
       "      <td id=\"T_0947b_row4_col7\" class=\"data row4 col7\" >0</td>\n",
       "      <td id=\"T_0947b_row4_col8\" class=\"data row4 col8\" >0</td>\n",
       "      <td id=\"T_0947b_row4_col9\" class=\"data row4 col9\" >0</td>\n",
       "    </tr>\n",
       "    <tr>\n",
       "      <th id=\"T_0947b_level0_row5\" class=\"row_heading level0 row5\" >mercy</th>\n",
       "      <td id=\"T_0947b_row5_col0\" class=\"data row5 col0\" >1</td>\n",
       "      <td id=\"T_0947b_row5_col1\" class=\"data row5 col1\" >0</td>\n",
       "      <td id=\"T_0947b_row5_col2\" class=\"data row5 col2\" >1</td>\n",
       "      <td id=\"T_0947b_row5_col3\" class=\"data row5 col3\" >1</td>\n",
       "      <td id=\"T_0947b_row5_col4\" class=\"data row5 col4\" >1</td>\n",
       "      <td id=\"T_0947b_row5_col5\" class=\"data row5 col5\" >1</td>\n",
       "      <td id=\"T_0947b_row5_col6\" class=\"data row5 col6\" >0</td>\n",
       "      <td id=\"T_0947b_row5_col7\" class=\"data row5 col7\" >0</td>\n",
       "      <td id=\"T_0947b_row5_col8\" class=\"data row5 col8\" >0</td>\n",
       "      <td id=\"T_0947b_row5_col9\" class=\"data row5 col9\" >0</td>\n",
       "    </tr>\n",
       "    <tr>\n",
       "      <th id=\"T_0947b_level0_row6\" class=\"row_heading level0 row6\" >worser</th>\n",
       "      <td id=\"T_0947b_row6_col0\" class=\"data row6 col0\" >1</td>\n",
       "      <td id=\"T_0947b_row6_col1\" class=\"data row6 col1\" >0</td>\n",
       "      <td id=\"T_0947b_row6_col2\" class=\"data row6 col2\" >1</td>\n",
       "      <td id=\"T_0947b_row6_col3\" class=\"data row6 col3\" >1</td>\n",
       "      <td id=\"T_0947b_row6_col4\" class=\"data row6 col4\" >1</td>\n",
       "      <td id=\"T_0947b_row6_col5\" class=\"data row6 col5\" >0</td>\n",
       "      <td id=\"T_0947b_row6_col6\" class=\"data row6 col6\" >0</td>\n",
       "      <td id=\"T_0947b_row6_col7\" class=\"data row6 col7\" >0</td>\n",
       "      <td id=\"T_0947b_row6_col8\" class=\"data row6 col8\" >0</td>\n",
       "      <td id=\"T_0947b_row6_col9\" class=\"data row6 col9\" >0</td>\n",
       "    </tr>\n",
       "    <tr>\n",
       "      <th id=\"T_0947b_level0_row7\" class=\"row_heading level0 row7\" >angels</th>\n",
       "      <td id=\"T_0947b_row7_col0\" class=\"data row7 col0\" >0</td>\n",
       "      <td id=\"T_0947b_row7_col1\" class=\"data row7 col1\" >0</td>\n",
       "      <td id=\"T_0947b_row7_col2\" class=\"data row7 col2\" >0</td>\n",
       "      <td id=\"T_0947b_row7_col3\" class=\"data row7 col3\" >0</td>\n",
       "      <td id=\"T_0947b_row7_col4\" class=\"data row7 col4\" >0</td>\n",
       "      <td id=\"T_0947b_row7_col5\" class=\"data row7 col5\" >0</td>\n",
       "      <td id=\"T_0947b_row7_col6\" class=\"data row7 col6\" >1</td>\n",
       "      <td id=\"T_0947b_row7_col7\" class=\"data row7 col7\" >1</td>\n",
       "      <td id=\"T_0947b_row7_col8\" class=\"data row7 col8\" >1</td>\n",
       "      <td id=\"T_0947b_row7_col9\" class=\"data row7 col9\" >0</td>\n",
       "    </tr>\n",
       "    <tr>\n",
       "      <th id=\"T_0947b_level0_row8\" class=\"row_heading level0 row8\" >fools</th>\n",
       "      <td id=\"T_0947b_row8_col0\" class=\"data row8 col0\" >0</td>\n",
       "      <td id=\"T_0947b_row8_col1\" class=\"data row8 col1\" >0</td>\n",
       "      <td id=\"T_0947b_row8_col2\" class=\"data row8 col2\" >0</td>\n",
       "      <td id=\"T_0947b_row8_col3\" class=\"data row8 col3\" >0</td>\n",
       "      <td id=\"T_0947b_row8_col4\" class=\"data row8 col4\" >0</td>\n",
       "      <td id=\"T_0947b_row8_col5\" class=\"data row8 col5\" >0</td>\n",
       "      <td id=\"T_0947b_row8_col6\" class=\"data row8 col6\" >1</td>\n",
       "      <td id=\"T_0947b_row8_col7\" class=\"data row8 col7\" >1</td>\n",
       "      <td id=\"T_0947b_row8_col8\" class=\"data row8 col8\" >1</td>\n",
       "      <td id=\"T_0947b_row8_col9\" class=\"data row8 col9\" >1</td>\n",
       "    </tr>\n",
       "    <tr>\n",
       "      <th id=\"T_0947b_level0_row9\" class=\"row_heading level0 row9\" >fear</th>\n",
       "      <td id=\"T_0947b_row9_col0\" class=\"data row9 col0\" >0</td>\n",
       "      <td id=\"T_0947b_row9_col1\" class=\"data row9 col1\" >0</td>\n",
       "      <td id=\"T_0947b_row9_col2\" class=\"data row9 col2\" >0</td>\n",
       "      <td id=\"T_0947b_row9_col3\" class=\"data row9 col3\" >0</td>\n",
       "      <td id=\"T_0947b_row9_col4\" class=\"data row9 col4\" >0</td>\n",
       "      <td id=\"T_0947b_row9_col5\" class=\"data row9 col5\" >0</td>\n",
       "      <td id=\"T_0947b_row9_col6\" class=\"data row9 col6\" >1</td>\n",
       "      <td id=\"T_0947b_row9_col7\" class=\"data row9 col7\" >1</td>\n",
       "      <td id=\"T_0947b_row9_col8\" class=\"data row9 col8\" >0</td>\n",
       "      <td id=\"T_0947b_row9_col9\" class=\"data row9 col9\" >1</td>\n",
       "    </tr>\n",
       "    <tr>\n",
       "      <th id=\"T_0947b_level0_row10\" class=\"row_heading level0 row10\" >in</th>\n",
       "      <td id=\"T_0947b_row10_col0\" class=\"data row10 col0\" >0</td>\n",
       "      <td id=\"T_0947b_row10_col1\" class=\"data row10 col1\" >0</td>\n",
       "      <td id=\"T_0947b_row10_col2\" class=\"data row10 col2\" >0</td>\n",
       "      <td id=\"T_0947b_row10_col3\" class=\"data row10 col3\" >0</td>\n",
       "      <td id=\"T_0947b_row10_col4\" class=\"data row10 col4\" >0</td>\n",
       "      <td id=\"T_0947b_row10_col5\" class=\"data row10 col5\" >0</td>\n",
       "      <td id=\"T_0947b_row10_col6\" class=\"data row10 col6\" >1</td>\n",
       "      <td id=\"T_0947b_row10_col7\" class=\"data row10 col7\" >1</td>\n",
       "      <td id=\"T_0947b_row10_col8\" class=\"data row10 col8\" >1</td>\n",
       "      <td id=\"T_0947b_row10_col9\" class=\"data row10 col9\" >1</td>\n",
       "    </tr>\n",
       "    <tr>\n",
       "      <th id=\"T_0947b_level0_row11\" class=\"row_heading level0 row11\" >rush</th>\n",
       "      <td id=\"T_0947b_row11_col0\" class=\"data row11 col0\" >0</td>\n",
       "      <td id=\"T_0947b_row11_col1\" class=\"data row11 col1\" >0</td>\n",
       "      <td id=\"T_0947b_row11_col2\" class=\"data row11 col2\" >0</td>\n",
       "      <td id=\"T_0947b_row11_col3\" class=\"data row11 col3\" >0</td>\n",
       "      <td id=\"T_0947b_row11_col4\" class=\"data row11 col4\" >0</td>\n",
       "      <td id=\"T_0947b_row11_col5\" class=\"data row11 col5\" >0</td>\n",
       "      <td id=\"T_0947b_row11_col6\" class=\"data row11 col6\" >1</td>\n",
       "      <td id=\"T_0947b_row11_col7\" class=\"data row11 col7\" >1</td>\n",
       "      <td id=\"T_0947b_row11_col8\" class=\"data row11 col8\" >1</td>\n",
       "      <td id=\"T_0947b_row11_col9\" class=\"data row11 col9\" >1</td>\n",
       "    </tr>\n",
       "    <tr>\n",
       "      <th id=\"T_0947b_level0_row12\" class=\"row_heading level0 row12\" >to</th>\n",
       "      <td id=\"T_0947b_row12_col0\" class=\"data row12 col0\" >0</td>\n",
       "      <td id=\"T_0947b_row12_col1\" class=\"data row12 col1\" >0</td>\n",
       "      <td id=\"T_0947b_row12_col2\" class=\"data row12 col2\" >0</td>\n",
       "      <td id=\"T_0947b_row12_col3\" class=\"data row12 col3\" >0</td>\n",
       "      <td id=\"T_0947b_row12_col4\" class=\"data row12 col4\" >0</td>\n",
       "      <td id=\"T_0947b_row12_col5\" class=\"data row12 col5\" >0</td>\n",
       "      <td id=\"T_0947b_row12_col6\" class=\"data row12 col6\" >1</td>\n",
       "      <td id=\"T_0947b_row12_col7\" class=\"data row12 col7\" >1</td>\n",
       "      <td id=\"T_0947b_row12_col8\" class=\"data row12 col8\" >1</td>\n",
       "      <td id=\"T_0947b_row12_col9\" class=\"data row12 col9\" >1</td>\n",
       "    </tr>\n",
       "    <tr>\n",
       "      <th id=\"T_0947b_level0_row13\" class=\"row_heading level0 row13\" >tread</th>\n",
       "      <td id=\"T_0947b_row13_col0\" class=\"data row13 col0\" >0</td>\n",
       "      <td id=\"T_0947b_row13_col1\" class=\"data row13 col1\" >0</td>\n",
       "      <td id=\"T_0947b_row13_col2\" class=\"data row13 col2\" >0</td>\n",
       "      <td id=\"T_0947b_row13_col3\" class=\"data row13 col3\" >0</td>\n",
       "      <td id=\"T_0947b_row13_col4\" class=\"data row13 col4\" >0</td>\n",
       "      <td id=\"T_0947b_row13_col5\" class=\"data row13 col5\" >0</td>\n",
       "      <td id=\"T_0947b_row13_col6\" class=\"data row13 col6\" >1</td>\n",
       "      <td id=\"T_0947b_row13_col7\" class=\"data row13 col7\" >1</td>\n",
       "      <td id=\"T_0947b_row13_col8\" class=\"data row13 col8\" >1</td>\n",
       "      <td id=\"T_0947b_row13_col9\" class=\"data row13 col9\" >1</td>\n",
       "    </tr>\n",
       "    <tr>\n",
       "      <th id=\"T_0947b_level0_row14\" class=\"row_heading level0 row14\" >where</th>\n",
       "      <td id=\"T_0947b_row14_col0\" class=\"data row14 col0\" >0</td>\n",
       "      <td id=\"T_0947b_row14_col1\" class=\"data row14 col1\" >0</td>\n",
       "      <td id=\"T_0947b_row14_col2\" class=\"data row14 col2\" >0</td>\n",
       "      <td id=\"T_0947b_row14_col3\" class=\"data row14 col3\" >0</td>\n",
       "      <td id=\"T_0947b_row14_col4\" class=\"data row14 col4\" >0</td>\n",
       "      <td id=\"T_0947b_row14_col5\" class=\"data row14 col5\" >0</td>\n",
       "      <td id=\"T_0947b_row14_col6\" class=\"data row14 col6\" >1</td>\n",
       "      <td id=\"T_0947b_row14_col7\" class=\"data row14 col7\" >1</td>\n",
       "      <td id=\"T_0947b_row14_col8\" class=\"data row14 col8\" >1</td>\n",
       "      <td id=\"T_0947b_row14_col9\" class=\"data row14 col9\" >1</td>\n",
       "    </tr>\n",
       "  </tbody>\n",
       "</table>\n"
      ],
      "text/plain": [
       "<pandas.io.formats.style.Styler at 0x1cb08db22e0>"
      ]
     },
     "execution_count": 269,
     "metadata": {},
     "output_type": "execute_result"
    }
   ],
   "source": [
    "TF = Calculate_TF(All_Text)\n",
    "\n",
    "TF.style.background_gradient(cmap='PuBu',axis=1)"
   ]
  },
  {
   "cell_type": "markdown",
   "metadata": {},
   "source": [
    "### **w tf(1+ log tf)**"
   ]
  },
  {
   "cell_type": "code",
   "execution_count": 270,
   "metadata": {},
   "outputs": [],
   "source": [
    "def Calculate_TF_WeightedLog(TF):\n",
    "\n",
    "    TF_WightedLog_DF= TF.copy()\n",
    "\n",
    "    for col in TF:\n",
    "        TF_WightedLog_DF[col] = TF[col].apply(lambda x : 1 + np.log(x) if x!=0 else 0)\n",
    "\n",
    "    return TF_WightedLog_DF"
   ]
  },
  {
   "cell_type": "code",
   "execution_count": 271,
   "metadata": {},
   "outputs": [
    {
     "data": {
      "text/html": [
       "<style type=\"text/css\">\n",
       "#T_bdef7_row0_col0, #T_bdef7_row0_col1, #T_bdef7_row0_col5, #T_bdef7_row1_col0, #T_bdef7_row1_col1, #T_bdef7_row1_col3, #T_bdef7_row2_col0, #T_bdef7_row2_col1, #T_bdef7_row2_col3, #T_bdef7_row2_col4, #T_bdef7_row2_col5, #T_bdef7_row3_col1, #T_bdef7_row4_col0, #T_bdef7_row5_col0, #T_bdef7_row5_col2, #T_bdef7_row5_col3, #T_bdef7_row5_col4, #T_bdef7_row5_col5, #T_bdef7_row6_col0, #T_bdef7_row6_col2, #T_bdef7_row6_col3, #T_bdef7_row6_col4, #T_bdef7_row7_col6, #T_bdef7_row7_col7, #T_bdef7_row7_col8, #T_bdef7_row8_col6, #T_bdef7_row8_col7, #T_bdef7_row8_col8, #T_bdef7_row8_col9, #T_bdef7_row9_col6, #T_bdef7_row9_col7, #T_bdef7_row9_col9, #T_bdef7_row10_col6, #T_bdef7_row10_col7, #T_bdef7_row10_col8, #T_bdef7_row10_col9, #T_bdef7_row11_col6, #T_bdef7_row11_col7, #T_bdef7_row11_col8, #T_bdef7_row11_col9, #T_bdef7_row12_col6, #T_bdef7_row12_col7, #T_bdef7_row12_col8, #T_bdef7_row12_col9, #T_bdef7_row13_col6, #T_bdef7_row13_col7, #T_bdef7_row13_col8, #T_bdef7_row13_col9, #T_bdef7_row14_col6, #T_bdef7_row14_col7, #T_bdef7_row14_col8, #T_bdef7_row14_col9 {\n",
       "  background-color: #023858;\n",
       "  color: #f1f1f1;\n",
       "}\n",
       "#T_bdef7_row0_col2, #T_bdef7_row0_col3, #T_bdef7_row0_col4, #T_bdef7_row0_col6, #T_bdef7_row0_col7, #T_bdef7_row0_col8, #T_bdef7_row0_col9, #T_bdef7_row1_col2, #T_bdef7_row1_col4, #T_bdef7_row1_col5, #T_bdef7_row1_col6, #T_bdef7_row1_col7, #T_bdef7_row1_col8, #T_bdef7_row1_col9, #T_bdef7_row2_col2, #T_bdef7_row2_col6, #T_bdef7_row2_col7, #T_bdef7_row2_col8, #T_bdef7_row2_col9, #T_bdef7_row3_col0, #T_bdef7_row3_col2, #T_bdef7_row3_col3, #T_bdef7_row3_col4, #T_bdef7_row3_col5, #T_bdef7_row3_col6, #T_bdef7_row3_col7, #T_bdef7_row3_col8, #T_bdef7_row3_col9, #T_bdef7_row4_col1, #T_bdef7_row4_col2, #T_bdef7_row4_col3, #T_bdef7_row4_col4, #T_bdef7_row4_col5, #T_bdef7_row4_col6, #T_bdef7_row4_col7, #T_bdef7_row4_col8, #T_bdef7_row4_col9, #T_bdef7_row5_col1, #T_bdef7_row5_col6, #T_bdef7_row5_col7, #T_bdef7_row5_col8, #T_bdef7_row5_col9, #T_bdef7_row6_col1, #T_bdef7_row6_col5, #T_bdef7_row6_col6, #T_bdef7_row6_col7, #T_bdef7_row6_col8, #T_bdef7_row6_col9, #T_bdef7_row7_col0, #T_bdef7_row7_col1, #T_bdef7_row7_col2, #T_bdef7_row7_col3, #T_bdef7_row7_col4, #T_bdef7_row7_col5, #T_bdef7_row7_col9, #T_bdef7_row8_col0, #T_bdef7_row8_col1, #T_bdef7_row8_col2, #T_bdef7_row8_col3, #T_bdef7_row8_col4, #T_bdef7_row8_col5, #T_bdef7_row9_col0, #T_bdef7_row9_col1, #T_bdef7_row9_col2, #T_bdef7_row9_col3, #T_bdef7_row9_col4, #T_bdef7_row9_col5, #T_bdef7_row9_col8, #T_bdef7_row10_col0, #T_bdef7_row10_col1, #T_bdef7_row10_col2, #T_bdef7_row10_col3, #T_bdef7_row10_col4, #T_bdef7_row10_col5, #T_bdef7_row11_col0, #T_bdef7_row11_col1, #T_bdef7_row11_col2, #T_bdef7_row11_col3, #T_bdef7_row11_col4, #T_bdef7_row11_col5, #T_bdef7_row12_col0, #T_bdef7_row12_col1, #T_bdef7_row12_col2, #T_bdef7_row12_col3, #T_bdef7_row12_col4, #T_bdef7_row12_col5, #T_bdef7_row13_col0, #T_bdef7_row13_col1, #T_bdef7_row13_col2, #T_bdef7_row13_col3, #T_bdef7_row13_col4, #T_bdef7_row13_col5, #T_bdef7_row14_col0, #T_bdef7_row14_col1, #T_bdef7_row14_col2, #T_bdef7_row14_col3, #T_bdef7_row14_col4, #T_bdef7_row14_col5 {\n",
       "  background-color: #fff7fb;\n",
       "  color: #000000;\n",
       "}\n",
       "</style>\n",
       "<table id=\"T_bdef7\">\n",
       "  <thead>\n",
       "    <tr>\n",
       "      <th class=\"blank level0\" >&nbsp;</th>\n",
       "      <th id=\"T_bdef7_level0_col0\" class=\"col_heading level0 col0\" >doc1</th>\n",
       "      <th id=\"T_bdef7_level0_col1\" class=\"col_heading level0 col1\" >doc2</th>\n",
       "      <th id=\"T_bdef7_level0_col2\" class=\"col_heading level0 col2\" >doc3</th>\n",
       "      <th id=\"T_bdef7_level0_col3\" class=\"col_heading level0 col3\" >doc4</th>\n",
       "      <th id=\"T_bdef7_level0_col4\" class=\"col_heading level0 col4\" >doc5</th>\n",
       "      <th id=\"T_bdef7_level0_col5\" class=\"col_heading level0 col5\" >doc6</th>\n",
       "      <th id=\"T_bdef7_level0_col6\" class=\"col_heading level0 col6\" >doc7</th>\n",
       "      <th id=\"T_bdef7_level0_col7\" class=\"col_heading level0 col7\" >doc8</th>\n",
       "      <th id=\"T_bdef7_level0_col8\" class=\"col_heading level0 col8\" >doc9</th>\n",
       "      <th id=\"T_bdef7_level0_col9\" class=\"col_heading level0 col9\" >doc10</th>\n",
       "    </tr>\n",
       "  </thead>\n",
       "  <tbody>\n",
       "    <tr>\n",
       "      <th id=\"T_bdef7_level0_row0\" class=\"row_heading level0 row0\" >antony</th>\n",
       "      <td id=\"T_bdef7_row0_col0\" class=\"data row0 col0\" >1.000000</td>\n",
       "      <td id=\"T_bdef7_row0_col1\" class=\"data row0 col1\" >1.000000</td>\n",
       "      <td id=\"T_bdef7_row0_col2\" class=\"data row0 col2\" >0.000000</td>\n",
       "      <td id=\"T_bdef7_row0_col3\" class=\"data row0 col3\" >0.000000</td>\n",
       "      <td id=\"T_bdef7_row0_col4\" class=\"data row0 col4\" >0.000000</td>\n",
       "      <td id=\"T_bdef7_row0_col5\" class=\"data row0 col5\" >1.000000</td>\n",
       "      <td id=\"T_bdef7_row0_col6\" class=\"data row0 col6\" >0.000000</td>\n",
       "      <td id=\"T_bdef7_row0_col7\" class=\"data row0 col7\" >0.000000</td>\n",
       "      <td id=\"T_bdef7_row0_col8\" class=\"data row0 col8\" >0.000000</td>\n",
       "      <td id=\"T_bdef7_row0_col9\" class=\"data row0 col9\" >0.000000</td>\n",
       "    </tr>\n",
       "    <tr>\n",
       "      <th id=\"T_bdef7_level0_row1\" class=\"row_heading level0 row1\" >brutus</th>\n",
       "      <td id=\"T_bdef7_row1_col0\" class=\"data row1 col0\" >1.000000</td>\n",
       "      <td id=\"T_bdef7_row1_col1\" class=\"data row1 col1\" >1.000000</td>\n",
       "      <td id=\"T_bdef7_row1_col2\" class=\"data row1 col2\" >0.000000</td>\n",
       "      <td id=\"T_bdef7_row1_col3\" class=\"data row1 col3\" >1.000000</td>\n",
       "      <td id=\"T_bdef7_row1_col4\" class=\"data row1 col4\" >0.000000</td>\n",
       "      <td id=\"T_bdef7_row1_col5\" class=\"data row1 col5\" >0.000000</td>\n",
       "      <td id=\"T_bdef7_row1_col6\" class=\"data row1 col6\" >0.000000</td>\n",
       "      <td id=\"T_bdef7_row1_col7\" class=\"data row1 col7\" >0.000000</td>\n",
       "      <td id=\"T_bdef7_row1_col8\" class=\"data row1 col8\" >0.000000</td>\n",
       "      <td id=\"T_bdef7_row1_col9\" class=\"data row1 col9\" >0.000000</td>\n",
       "    </tr>\n",
       "    <tr>\n",
       "      <th id=\"T_bdef7_level0_row2\" class=\"row_heading level0 row2\" >caeser</th>\n",
       "      <td id=\"T_bdef7_row2_col0\" class=\"data row2 col0\" >1.000000</td>\n",
       "      <td id=\"T_bdef7_row2_col1\" class=\"data row2 col1\" >1.000000</td>\n",
       "      <td id=\"T_bdef7_row2_col2\" class=\"data row2 col2\" >0.000000</td>\n",
       "      <td id=\"T_bdef7_row2_col3\" class=\"data row2 col3\" >1.000000</td>\n",
       "      <td id=\"T_bdef7_row2_col4\" class=\"data row2 col4\" >1.000000</td>\n",
       "      <td id=\"T_bdef7_row2_col5\" class=\"data row2 col5\" >1.000000</td>\n",
       "      <td id=\"T_bdef7_row2_col6\" class=\"data row2 col6\" >0.000000</td>\n",
       "      <td id=\"T_bdef7_row2_col7\" class=\"data row2 col7\" >0.000000</td>\n",
       "      <td id=\"T_bdef7_row2_col8\" class=\"data row2 col8\" >0.000000</td>\n",
       "      <td id=\"T_bdef7_row2_col9\" class=\"data row2 col9\" >0.000000</td>\n",
       "    </tr>\n",
       "    <tr>\n",
       "      <th id=\"T_bdef7_level0_row3\" class=\"row_heading level0 row3\" >calpurnia</th>\n",
       "      <td id=\"T_bdef7_row3_col0\" class=\"data row3 col0\" >0.000000</td>\n",
       "      <td id=\"T_bdef7_row3_col1\" class=\"data row3 col1\" >1.000000</td>\n",
       "      <td id=\"T_bdef7_row3_col2\" class=\"data row3 col2\" >0.000000</td>\n",
       "      <td id=\"T_bdef7_row3_col3\" class=\"data row3 col3\" >0.000000</td>\n",
       "      <td id=\"T_bdef7_row3_col4\" class=\"data row3 col4\" >0.000000</td>\n",
       "      <td id=\"T_bdef7_row3_col5\" class=\"data row3 col5\" >0.000000</td>\n",
       "      <td id=\"T_bdef7_row3_col6\" class=\"data row3 col6\" >0.000000</td>\n",
       "      <td id=\"T_bdef7_row3_col7\" class=\"data row3 col7\" >0.000000</td>\n",
       "      <td id=\"T_bdef7_row3_col8\" class=\"data row3 col8\" >0.000000</td>\n",
       "      <td id=\"T_bdef7_row3_col9\" class=\"data row3 col9\" >0.000000</td>\n",
       "    </tr>\n",
       "    <tr>\n",
       "      <th id=\"T_bdef7_level0_row4\" class=\"row_heading level0 row4\" >cleopatra</th>\n",
       "      <td id=\"T_bdef7_row4_col0\" class=\"data row4 col0\" >1.000000</td>\n",
       "      <td id=\"T_bdef7_row4_col1\" class=\"data row4 col1\" >0.000000</td>\n",
       "      <td id=\"T_bdef7_row4_col2\" class=\"data row4 col2\" >0.000000</td>\n",
       "      <td id=\"T_bdef7_row4_col3\" class=\"data row4 col3\" >0.000000</td>\n",
       "      <td id=\"T_bdef7_row4_col4\" class=\"data row4 col4\" >0.000000</td>\n",
       "      <td id=\"T_bdef7_row4_col5\" class=\"data row4 col5\" >0.000000</td>\n",
       "      <td id=\"T_bdef7_row4_col6\" class=\"data row4 col6\" >0.000000</td>\n",
       "      <td id=\"T_bdef7_row4_col7\" class=\"data row4 col7\" >0.000000</td>\n",
       "      <td id=\"T_bdef7_row4_col8\" class=\"data row4 col8\" >0.000000</td>\n",
       "      <td id=\"T_bdef7_row4_col9\" class=\"data row4 col9\" >0.000000</td>\n",
       "    </tr>\n",
       "    <tr>\n",
       "      <th id=\"T_bdef7_level0_row5\" class=\"row_heading level0 row5\" >mercy</th>\n",
       "      <td id=\"T_bdef7_row5_col0\" class=\"data row5 col0\" >1.000000</td>\n",
       "      <td id=\"T_bdef7_row5_col1\" class=\"data row5 col1\" >0.000000</td>\n",
       "      <td id=\"T_bdef7_row5_col2\" class=\"data row5 col2\" >1.000000</td>\n",
       "      <td id=\"T_bdef7_row5_col3\" class=\"data row5 col3\" >1.000000</td>\n",
       "      <td id=\"T_bdef7_row5_col4\" class=\"data row5 col4\" >1.000000</td>\n",
       "      <td id=\"T_bdef7_row5_col5\" class=\"data row5 col5\" >1.000000</td>\n",
       "      <td id=\"T_bdef7_row5_col6\" class=\"data row5 col6\" >0.000000</td>\n",
       "      <td id=\"T_bdef7_row5_col7\" class=\"data row5 col7\" >0.000000</td>\n",
       "      <td id=\"T_bdef7_row5_col8\" class=\"data row5 col8\" >0.000000</td>\n",
       "      <td id=\"T_bdef7_row5_col9\" class=\"data row5 col9\" >0.000000</td>\n",
       "    </tr>\n",
       "    <tr>\n",
       "      <th id=\"T_bdef7_level0_row6\" class=\"row_heading level0 row6\" >worser</th>\n",
       "      <td id=\"T_bdef7_row6_col0\" class=\"data row6 col0\" >1.000000</td>\n",
       "      <td id=\"T_bdef7_row6_col1\" class=\"data row6 col1\" >0.000000</td>\n",
       "      <td id=\"T_bdef7_row6_col2\" class=\"data row6 col2\" >1.000000</td>\n",
       "      <td id=\"T_bdef7_row6_col3\" class=\"data row6 col3\" >1.000000</td>\n",
       "      <td id=\"T_bdef7_row6_col4\" class=\"data row6 col4\" >1.000000</td>\n",
       "      <td id=\"T_bdef7_row6_col5\" class=\"data row6 col5\" >0.000000</td>\n",
       "      <td id=\"T_bdef7_row6_col6\" class=\"data row6 col6\" >0.000000</td>\n",
       "      <td id=\"T_bdef7_row6_col7\" class=\"data row6 col7\" >0.000000</td>\n",
       "      <td id=\"T_bdef7_row6_col8\" class=\"data row6 col8\" >0.000000</td>\n",
       "      <td id=\"T_bdef7_row6_col9\" class=\"data row6 col9\" >0.000000</td>\n",
       "    </tr>\n",
       "    <tr>\n",
       "      <th id=\"T_bdef7_level0_row7\" class=\"row_heading level0 row7\" >angels</th>\n",
       "      <td id=\"T_bdef7_row7_col0\" class=\"data row7 col0\" >0.000000</td>\n",
       "      <td id=\"T_bdef7_row7_col1\" class=\"data row7 col1\" >0.000000</td>\n",
       "      <td id=\"T_bdef7_row7_col2\" class=\"data row7 col2\" >0.000000</td>\n",
       "      <td id=\"T_bdef7_row7_col3\" class=\"data row7 col3\" >0.000000</td>\n",
       "      <td id=\"T_bdef7_row7_col4\" class=\"data row7 col4\" >0.000000</td>\n",
       "      <td id=\"T_bdef7_row7_col5\" class=\"data row7 col5\" >0.000000</td>\n",
       "      <td id=\"T_bdef7_row7_col6\" class=\"data row7 col6\" >1.000000</td>\n",
       "      <td id=\"T_bdef7_row7_col7\" class=\"data row7 col7\" >1.000000</td>\n",
       "      <td id=\"T_bdef7_row7_col8\" class=\"data row7 col8\" >1.000000</td>\n",
       "      <td id=\"T_bdef7_row7_col9\" class=\"data row7 col9\" >0.000000</td>\n",
       "    </tr>\n",
       "    <tr>\n",
       "      <th id=\"T_bdef7_level0_row8\" class=\"row_heading level0 row8\" >fools</th>\n",
       "      <td id=\"T_bdef7_row8_col0\" class=\"data row8 col0\" >0.000000</td>\n",
       "      <td id=\"T_bdef7_row8_col1\" class=\"data row8 col1\" >0.000000</td>\n",
       "      <td id=\"T_bdef7_row8_col2\" class=\"data row8 col2\" >0.000000</td>\n",
       "      <td id=\"T_bdef7_row8_col3\" class=\"data row8 col3\" >0.000000</td>\n",
       "      <td id=\"T_bdef7_row8_col4\" class=\"data row8 col4\" >0.000000</td>\n",
       "      <td id=\"T_bdef7_row8_col5\" class=\"data row8 col5\" >0.000000</td>\n",
       "      <td id=\"T_bdef7_row8_col6\" class=\"data row8 col6\" >1.000000</td>\n",
       "      <td id=\"T_bdef7_row8_col7\" class=\"data row8 col7\" >1.000000</td>\n",
       "      <td id=\"T_bdef7_row8_col8\" class=\"data row8 col8\" >1.000000</td>\n",
       "      <td id=\"T_bdef7_row8_col9\" class=\"data row8 col9\" >1.000000</td>\n",
       "    </tr>\n",
       "    <tr>\n",
       "      <th id=\"T_bdef7_level0_row9\" class=\"row_heading level0 row9\" >fear</th>\n",
       "      <td id=\"T_bdef7_row9_col0\" class=\"data row9 col0\" >0.000000</td>\n",
       "      <td id=\"T_bdef7_row9_col1\" class=\"data row9 col1\" >0.000000</td>\n",
       "      <td id=\"T_bdef7_row9_col2\" class=\"data row9 col2\" >0.000000</td>\n",
       "      <td id=\"T_bdef7_row9_col3\" class=\"data row9 col3\" >0.000000</td>\n",
       "      <td id=\"T_bdef7_row9_col4\" class=\"data row9 col4\" >0.000000</td>\n",
       "      <td id=\"T_bdef7_row9_col5\" class=\"data row9 col5\" >0.000000</td>\n",
       "      <td id=\"T_bdef7_row9_col6\" class=\"data row9 col6\" >1.000000</td>\n",
       "      <td id=\"T_bdef7_row9_col7\" class=\"data row9 col7\" >1.000000</td>\n",
       "      <td id=\"T_bdef7_row9_col8\" class=\"data row9 col8\" >0.000000</td>\n",
       "      <td id=\"T_bdef7_row9_col9\" class=\"data row9 col9\" >1.000000</td>\n",
       "    </tr>\n",
       "    <tr>\n",
       "      <th id=\"T_bdef7_level0_row10\" class=\"row_heading level0 row10\" >in</th>\n",
       "      <td id=\"T_bdef7_row10_col0\" class=\"data row10 col0\" >0.000000</td>\n",
       "      <td id=\"T_bdef7_row10_col1\" class=\"data row10 col1\" >0.000000</td>\n",
       "      <td id=\"T_bdef7_row10_col2\" class=\"data row10 col2\" >0.000000</td>\n",
       "      <td id=\"T_bdef7_row10_col3\" class=\"data row10 col3\" >0.000000</td>\n",
       "      <td id=\"T_bdef7_row10_col4\" class=\"data row10 col4\" >0.000000</td>\n",
       "      <td id=\"T_bdef7_row10_col5\" class=\"data row10 col5\" >0.000000</td>\n",
       "      <td id=\"T_bdef7_row10_col6\" class=\"data row10 col6\" >1.000000</td>\n",
       "      <td id=\"T_bdef7_row10_col7\" class=\"data row10 col7\" >1.000000</td>\n",
       "      <td id=\"T_bdef7_row10_col8\" class=\"data row10 col8\" >1.000000</td>\n",
       "      <td id=\"T_bdef7_row10_col9\" class=\"data row10 col9\" >1.000000</td>\n",
       "    </tr>\n",
       "    <tr>\n",
       "      <th id=\"T_bdef7_level0_row11\" class=\"row_heading level0 row11\" >rush</th>\n",
       "      <td id=\"T_bdef7_row11_col0\" class=\"data row11 col0\" >0.000000</td>\n",
       "      <td id=\"T_bdef7_row11_col1\" class=\"data row11 col1\" >0.000000</td>\n",
       "      <td id=\"T_bdef7_row11_col2\" class=\"data row11 col2\" >0.000000</td>\n",
       "      <td id=\"T_bdef7_row11_col3\" class=\"data row11 col3\" >0.000000</td>\n",
       "      <td id=\"T_bdef7_row11_col4\" class=\"data row11 col4\" >0.000000</td>\n",
       "      <td id=\"T_bdef7_row11_col5\" class=\"data row11 col5\" >0.000000</td>\n",
       "      <td id=\"T_bdef7_row11_col6\" class=\"data row11 col6\" >1.000000</td>\n",
       "      <td id=\"T_bdef7_row11_col7\" class=\"data row11 col7\" >1.000000</td>\n",
       "      <td id=\"T_bdef7_row11_col8\" class=\"data row11 col8\" >1.000000</td>\n",
       "      <td id=\"T_bdef7_row11_col9\" class=\"data row11 col9\" >1.000000</td>\n",
       "    </tr>\n",
       "    <tr>\n",
       "      <th id=\"T_bdef7_level0_row12\" class=\"row_heading level0 row12\" >to</th>\n",
       "      <td id=\"T_bdef7_row12_col0\" class=\"data row12 col0\" >0.000000</td>\n",
       "      <td id=\"T_bdef7_row12_col1\" class=\"data row12 col1\" >0.000000</td>\n",
       "      <td id=\"T_bdef7_row12_col2\" class=\"data row12 col2\" >0.000000</td>\n",
       "      <td id=\"T_bdef7_row12_col3\" class=\"data row12 col3\" >0.000000</td>\n",
       "      <td id=\"T_bdef7_row12_col4\" class=\"data row12 col4\" >0.000000</td>\n",
       "      <td id=\"T_bdef7_row12_col5\" class=\"data row12 col5\" >0.000000</td>\n",
       "      <td id=\"T_bdef7_row12_col6\" class=\"data row12 col6\" >1.000000</td>\n",
       "      <td id=\"T_bdef7_row12_col7\" class=\"data row12 col7\" >1.000000</td>\n",
       "      <td id=\"T_bdef7_row12_col8\" class=\"data row12 col8\" >1.000000</td>\n",
       "      <td id=\"T_bdef7_row12_col9\" class=\"data row12 col9\" >1.000000</td>\n",
       "    </tr>\n",
       "    <tr>\n",
       "      <th id=\"T_bdef7_level0_row13\" class=\"row_heading level0 row13\" >tread</th>\n",
       "      <td id=\"T_bdef7_row13_col0\" class=\"data row13 col0\" >0.000000</td>\n",
       "      <td id=\"T_bdef7_row13_col1\" class=\"data row13 col1\" >0.000000</td>\n",
       "      <td id=\"T_bdef7_row13_col2\" class=\"data row13 col2\" >0.000000</td>\n",
       "      <td id=\"T_bdef7_row13_col3\" class=\"data row13 col3\" >0.000000</td>\n",
       "      <td id=\"T_bdef7_row13_col4\" class=\"data row13 col4\" >0.000000</td>\n",
       "      <td id=\"T_bdef7_row13_col5\" class=\"data row13 col5\" >0.000000</td>\n",
       "      <td id=\"T_bdef7_row13_col6\" class=\"data row13 col6\" >1.000000</td>\n",
       "      <td id=\"T_bdef7_row13_col7\" class=\"data row13 col7\" >1.000000</td>\n",
       "      <td id=\"T_bdef7_row13_col8\" class=\"data row13 col8\" >1.000000</td>\n",
       "      <td id=\"T_bdef7_row13_col9\" class=\"data row13 col9\" >1.000000</td>\n",
       "    </tr>\n",
       "    <tr>\n",
       "      <th id=\"T_bdef7_level0_row14\" class=\"row_heading level0 row14\" >where</th>\n",
       "      <td id=\"T_bdef7_row14_col0\" class=\"data row14 col0\" >0.000000</td>\n",
       "      <td id=\"T_bdef7_row14_col1\" class=\"data row14 col1\" >0.000000</td>\n",
       "      <td id=\"T_bdef7_row14_col2\" class=\"data row14 col2\" >0.000000</td>\n",
       "      <td id=\"T_bdef7_row14_col3\" class=\"data row14 col3\" >0.000000</td>\n",
       "      <td id=\"T_bdef7_row14_col4\" class=\"data row14 col4\" >0.000000</td>\n",
       "      <td id=\"T_bdef7_row14_col5\" class=\"data row14 col5\" >0.000000</td>\n",
       "      <td id=\"T_bdef7_row14_col6\" class=\"data row14 col6\" >1.000000</td>\n",
       "      <td id=\"T_bdef7_row14_col7\" class=\"data row14 col7\" >1.000000</td>\n",
       "      <td id=\"T_bdef7_row14_col8\" class=\"data row14 col8\" >1.000000</td>\n",
       "      <td id=\"T_bdef7_row14_col9\" class=\"data row14 col9\" >1.000000</td>\n",
       "    </tr>\n",
       "  </tbody>\n",
       "</table>\n"
      ],
      "text/plain": [
       "<pandas.io.formats.style.Styler at 0x1cb08cf79a0>"
      ]
     },
     "execution_count": 271,
     "metadata": {},
     "output_type": "execute_result"
    }
   ],
   "source": [
    "TF_WightedLog = Calculate_TF_WeightedLog(TF)\n",
    "\n",
    "TF_WightedLog.style.background_gradient(cmap='PuBu',axis=1)"
   ]
  },
  {
   "cell_type": "markdown",
   "metadata": {},
   "source": [
    "## **DF , IDF and TF-IDF**"
   ]
  },
  {
   "cell_type": "markdown",
   "metadata": {},
   "source": [
    "### **DF and IDF**"
   ]
  },
  {
   "cell_type": "code",
   "execution_count": 272,
   "metadata": {},
   "outputs": [
    {
     "data": {
      "text/plain": [
       "['antony',\n",
       " 'brutus',\n",
       " 'caeser',\n",
       " 'calpurnia',\n",
       " 'cleopatra',\n",
       " 'mercy',\n",
       " 'worser',\n",
       " 'angels',\n",
       " 'fools',\n",
       " 'fear',\n",
       " 'in',\n",
       " 'rush',\n",
       " 'to',\n",
       " 'tread',\n",
       " 'where']"
      ]
     },
     "execution_count": 272,
     "metadata": {},
     "output_type": "execute_result"
    }
   ],
   "source": [
    "Tokens"
   ]
  },
  {
   "cell_type": "code",
   "execution_count": 273,
   "metadata": {},
   "outputs": [],
   "source": [
    "def Calculate_DF(All_Text):\n",
    "\n",
    "    DF = {token : 0 for token in Tokens}\n",
    "\n",
    "    for i,doc in enumerate(All_Text):    \n",
    "\n",
    "        for word in doc.split():\n",
    "\n",
    "            if DF[word] == 0:\n",
    "                \n",
    "                DF[word] = 1\n",
    "            \n",
    "            else:\n",
    "\n",
    "                DF[word] += 1               \n",
    "    \n",
    "    return pd.DataFrame(pd.Series(DF), columns=['df'])"
   ]
  },
  {
   "cell_type": "code",
   "execution_count": 274,
   "metadata": {},
   "outputs": [
    {
     "data": {
      "text/html": [
       "<style type=\"text/css\">\n",
       "#T_2cd35_row0_col0, #T_2cd35_row1_col0, #T_2cd35_row7_col0, #T_2cd35_row9_col0 {\n",
       "  background-color: #73a9cf;\n",
       "  color: #f1f1f1;\n",
       "}\n",
       "#T_2cd35_row2_col0, #T_2cd35_row5_col0 {\n",
       "  background-color: #023858;\n",
       "  color: #f1f1f1;\n",
       "}\n",
       "#T_2cd35_row3_col0, #T_2cd35_row4_col0 {\n",
       "  background-color: #fff7fb;\n",
       "  color: #000000;\n",
       "}\n",
       "#T_2cd35_row6_col0, #T_2cd35_row8_col0, #T_2cd35_row10_col0, #T_2cd35_row11_col0, #T_2cd35_row12_col0, #T_2cd35_row13_col0, #T_2cd35_row14_col0 {\n",
       "  background-color: #056faf;\n",
       "  color: #f1f1f1;\n",
       "}\n",
       "</style>\n",
       "<table id=\"T_2cd35\">\n",
       "  <thead>\n",
       "    <tr>\n",
       "      <th class=\"blank level0\" >&nbsp;</th>\n",
       "      <th id=\"T_2cd35_level0_col0\" class=\"col_heading level0 col0\" >df</th>\n",
       "    </tr>\n",
       "  </thead>\n",
       "  <tbody>\n",
       "    <tr>\n",
       "      <th id=\"T_2cd35_level0_row0\" class=\"row_heading level0 row0\" >antony</th>\n",
       "      <td id=\"T_2cd35_row0_col0\" class=\"data row0 col0\" >3</td>\n",
       "    </tr>\n",
       "    <tr>\n",
       "      <th id=\"T_2cd35_level0_row1\" class=\"row_heading level0 row1\" >brutus</th>\n",
       "      <td id=\"T_2cd35_row1_col0\" class=\"data row1 col0\" >3</td>\n",
       "    </tr>\n",
       "    <tr>\n",
       "      <th id=\"T_2cd35_level0_row2\" class=\"row_heading level0 row2\" >caeser</th>\n",
       "      <td id=\"T_2cd35_row2_col0\" class=\"data row2 col0\" >5</td>\n",
       "    </tr>\n",
       "    <tr>\n",
       "      <th id=\"T_2cd35_level0_row3\" class=\"row_heading level0 row3\" >calpurnia</th>\n",
       "      <td id=\"T_2cd35_row3_col0\" class=\"data row3 col0\" >1</td>\n",
       "    </tr>\n",
       "    <tr>\n",
       "      <th id=\"T_2cd35_level0_row4\" class=\"row_heading level0 row4\" >cleopatra</th>\n",
       "      <td id=\"T_2cd35_row4_col0\" class=\"data row4 col0\" >1</td>\n",
       "    </tr>\n",
       "    <tr>\n",
       "      <th id=\"T_2cd35_level0_row5\" class=\"row_heading level0 row5\" >mercy</th>\n",
       "      <td id=\"T_2cd35_row5_col0\" class=\"data row5 col0\" >5</td>\n",
       "    </tr>\n",
       "    <tr>\n",
       "      <th id=\"T_2cd35_level0_row6\" class=\"row_heading level0 row6\" >worser</th>\n",
       "      <td id=\"T_2cd35_row6_col0\" class=\"data row6 col0\" >4</td>\n",
       "    </tr>\n",
       "    <tr>\n",
       "      <th id=\"T_2cd35_level0_row7\" class=\"row_heading level0 row7\" >angels</th>\n",
       "      <td id=\"T_2cd35_row7_col0\" class=\"data row7 col0\" >3</td>\n",
       "    </tr>\n",
       "    <tr>\n",
       "      <th id=\"T_2cd35_level0_row8\" class=\"row_heading level0 row8\" >fools</th>\n",
       "      <td id=\"T_2cd35_row8_col0\" class=\"data row8 col0\" >4</td>\n",
       "    </tr>\n",
       "    <tr>\n",
       "      <th id=\"T_2cd35_level0_row9\" class=\"row_heading level0 row9\" >fear</th>\n",
       "      <td id=\"T_2cd35_row9_col0\" class=\"data row9 col0\" >3</td>\n",
       "    </tr>\n",
       "    <tr>\n",
       "      <th id=\"T_2cd35_level0_row10\" class=\"row_heading level0 row10\" >in</th>\n",
       "      <td id=\"T_2cd35_row10_col0\" class=\"data row10 col0\" >4</td>\n",
       "    </tr>\n",
       "    <tr>\n",
       "      <th id=\"T_2cd35_level0_row11\" class=\"row_heading level0 row11\" >rush</th>\n",
       "      <td id=\"T_2cd35_row11_col0\" class=\"data row11 col0\" >4</td>\n",
       "    </tr>\n",
       "    <tr>\n",
       "      <th id=\"T_2cd35_level0_row12\" class=\"row_heading level0 row12\" >to</th>\n",
       "      <td id=\"T_2cd35_row12_col0\" class=\"data row12 col0\" >4</td>\n",
       "    </tr>\n",
       "    <tr>\n",
       "      <th id=\"T_2cd35_level0_row13\" class=\"row_heading level0 row13\" >tread</th>\n",
       "      <td id=\"T_2cd35_row13_col0\" class=\"data row13 col0\" >4</td>\n",
       "    </tr>\n",
       "    <tr>\n",
       "      <th id=\"T_2cd35_level0_row14\" class=\"row_heading level0 row14\" >where</th>\n",
       "      <td id=\"T_2cd35_row14_col0\" class=\"data row14 col0\" >4</td>\n",
       "    </tr>\n",
       "  </tbody>\n",
       "</table>\n"
      ],
      "text/plain": [
       "<pandas.io.formats.style.Styler at 0x1cb090c7d60>"
      ]
     },
     "execution_count": 274,
     "metadata": {},
     "output_type": "execute_result"
    }
   ],
   "source": [
    "DF = Calculate_DF(All_Text)\n",
    "\n",
    "DF.style.background_gradient(cmap='PuBu',axis=0)"
   ]
  },
  {
   "cell_type": "code",
   "execution_count": 275,
   "metadata": {},
   "outputs": [],
   "source": [
    "def Calculate_IDF(DF, N=10):\n",
    "\n",
    "    IDF = DF.copy()\n",
    "\n",
    "    for col in IDF:\n",
    "        \n",
    "        IDF[col] = IDF[col].apply(lambda x : np.log10(N/x))   \n",
    "            \n",
    "    IDF.columns = ['idf']\n",
    "    \n",
    "    return IDF"
   ]
  },
  {
   "cell_type": "code",
   "execution_count": 276,
   "metadata": {},
   "outputs": [
    {
     "data": {
      "text/html": [
       "<style type=\"text/css\">\n",
       "#T_7d53a_row0_col0, #T_7d53a_row1_col0, #T_7d53a_row7_col0, #T_7d53a_row9_col0 {\n",
       "  background-color: #b9c6e0;\n",
       "  color: #000000;\n",
       "}\n",
       "#T_7d53a_row2_col0, #T_7d53a_row5_col0 {\n",
       "  background-color: #fff7fb;\n",
       "  color: #000000;\n",
       "}\n",
       "#T_7d53a_row3_col0, #T_7d53a_row4_col0 {\n",
       "  background-color: #023858;\n",
       "  color: #f1f1f1;\n",
       "}\n",
       "#T_7d53a_row6_col0, #T_7d53a_row8_col0, #T_7d53a_row10_col0, #T_7d53a_row11_col0, #T_7d53a_row12_col0, #T_7d53a_row13_col0, #T_7d53a_row14_col0 {\n",
       "  background-color: #e9e5f1;\n",
       "  color: #000000;\n",
       "}\n",
       "</style>\n",
       "<table id=\"T_7d53a\">\n",
       "  <thead>\n",
       "    <tr>\n",
       "      <th class=\"blank level0\" >&nbsp;</th>\n",
       "      <th id=\"T_7d53a_level0_col0\" class=\"col_heading level0 col0\" >idf</th>\n",
       "    </tr>\n",
       "  </thead>\n",
       "  <tbody>\n",
       "    <tr>\n",
       "      <th id=\"T_7d53a_level0_row0\" class=\"row_heading level0 row0\" >antony</th>\n",
       "      <td id=\"T_7d53a_row0_col0\" class=\"data row0 col0\" >0.522879</td>\n",
       "    </tr>\n",
       "    <tr>\n",
       "      <th id=\"T_7d53a_level0_row1\" class=\"row_heading level0 row1\" >brutus</th>\n",
       "      <td id=\"T_7d53a_row1_col0\" class=\"data row1 col0\" >0.522879</td>\n",
       "    </tr>\n",
       "    <tr>\n",
       "      <th id=\"T_7d53a_level0_row2\" class=\"row_heading level0 row2\" >caeser</th>\n",
       "      <td id=\"T_7d53a_row2_col0\" class=\"data row2 col0\" >0.301030</td>\n",
       "    </tr>\n",
       "    <tr>\n",
       "      <th id=\"T_7d53a_level0_row3\" class=\"row_heading level0 row3\" >calpurnia</th>\n",
       "      <td id=\"T_7d53a_row3_col0\" class=\"data row3 col0\" >1.000000</td>\n",
       "    </tr>\n",
       "    <tr>\n",
       "      <th id=\"T_7d53a_level0_row4\" class=\"row_heading level0 row4\" >cleopatra</th>\n",
       "      <td id=\"T_7d53a_row4_col0\" class=\"data row4 col0\" >1.000000</td>\n",
       "    </tr>\n",
       "    <tr>\n",
       "      <th id=\"T_7d53a_level0_row5\" class=\"row_heading level0 row5\" >mercy</th>\n",
       "      <td id=\"T_7d53a_row5_col0\" class=\"data row5 col0\" >0.301030</td>\n",
       "    </tr>\n",
       "    <tr>\n",
       "      <th id=\"T_7d53a_level0_row6\" class=\"row_heading level0 row6\" >worser</th>\n",
       "      <td id=\"T_7d53a_row6_col0\" class=\"data row6 col0\" >0.397940</td>\n",
       "    </tr>\n",
       "    <tr>\n",
       "      <th id=\"T_7d53a_level0_row7\" class=\"row_heading level0 row7\" >angels</th>\n",
       "      <td id=\"T_7d53a_row7_col0\" class=\"data row7 col0\" >0.522879</td>\n",
       "    </tr>\n",
       "    <tr>\n",
       "      <th id=\"T_7d53a_level0_row8\" class=\"row_heading level0 row8\" >fools</th>\n",
       "      <td id=\"T_7d53a_row8_col0\" class=\"data row8 col0\" >0.397940</td>\n",
       "    </tr>\n",
       "    <tr>\n",
       "      <th id=\"T_7d53a_level0_row9\" class=\"row_heading level0 row9\" >fear</th>\n",
       "      <td id=\"T_7d53a_row9_col0\" class=\"data row9 col0\" >0.522879</td>\n",
       "    </tr>\n",
       "    <tr>\n",
       "      <th id=\"T_7d53a_level0_row10\" class=\"row_heading level0 row10\" >in</th>\n",
       "      <td id=\"T_7d53a_row10_col0\" class=\"data row10 col0\" >0.397940</td>\n",
       "    </tr>\n",
       "    <tr>\n",
       "      <th id=\"T_7d53a_level0_row11\" class=\"row_heading level0 row11\" >rush</th>\n",
       "      <td id=\"T_7d53a_row11_col0\" class=\"data row11 col0\" >0.397940</td>\n",
       "    </tr>\n",
       "    <tr>\n",
       "      <th id=\"T_7d53a_level0_row12\" class=\"row_heading level0 row12\" >to</th>\n",
       "      <td id=\"T_7d53a_row12_col0\" class=\"data row12 col0\" >0.397940</td>\n",
       "    </tr>\n",
       "    <tr>\n",
       "      <th id=\"T_7d53a_level0_row13\" class=\"row_heading level0 row13\" >tread</th>\n",
       "      <td id=\"T_7d53a_row13_col0\" class=\"data row13 col0\" >0.397940</td>\n",
       "    </tr>\n",
       "    <tr>\n",
       "      <th id=\"T_7d53a_level0_row14\" class=\"row_heading level0 row14\" >where</th>\n",
       "      <td id=\"T_7d53a_row14_col0\" class=\"data row14 col0\" >0.397940</td>\n",
       "    </tr>\n",
       "  </tbody>\n",
       "</table>\n"
      ],
      "text/plain": [
       "<pandas.io.formats.style.Styler at 0x1cb09103e80>"
      ]
     },
     "execution_count": 276,
     "metadata": {},
     "output_type": "execute_result"
    }
   ],
   "source": [
    "IDF = Calculate_IDF(DF)\n",
    "\n",
    "IDF.style.background_gradient(cmap='PuBu',axis=0)"
   ]
  },
  {
   "cell_type": "markdown",
   "metadata": {},
   "source": [
    "### **TF-IDF**"
   ]
  },
  {
   "cell_type": "code",
   "execution_count": 277,
   "metadata": {},
   "outputs": [
    {
     "data": {
      "text/html": [
       "<style type=\"text/css\">\n",
       "#T_c8562_row0_col0, #T_c8562_row0_col1, #T_c8562_row0_col5, #T_c8562_row1_col0, #T_c8562_row1_col1, #T_c8562_row1_col3, #T_c8562_row2_col0, #T_c8562_row2_col1, #T_c8562_row2_col3, #T_c8562_row2_col4, #T_c8562_row2_col5, #T_c8562_row3_col1, #T_c8562_row4_col0, #T_c8562_row5_col0, #T_c8562_row5_col2, #T_c8562_row5_col3, #T_c8562_row5_col4, #T_c8562_row5_col5, #T_c8562_row6_col0, #T_c8562_row6_col2, #T_c8562_row6_col3, #T_c8562_row6_col4, #T_c8562_row7_col6, #T_c8562_row7_col7, #T_c8562_row7_col8, #T_c8562_row8_col6, #T_c8562_row8_col7, #T_c8562_row8_col8, #T_c8562_row8_col9, #T_c8562_row9_col6, #T_c8562_row9_col7, #T_c8562_row9_col9, #T_c8562_row10_col6, #T_c8562_row10_col7, #T_c8562_row10_col8, #T_c8562_row10_col9, #T_c8562_row11_col6, #T_c8562_row11_col7, #T_c8562_row11_col8, #T_c8562_row11_col9, #T_c8562_row12_col6, #T_c8562_row12_col7, #T_c8562_row12_col8, #T_c8562_row12_col9, #T_c8562_row13_col6, #T_c8562_row13_col7, #T_c8562_row13_col8, #T_c8562_row13_col9, #T_c8562_row14_col6, #T_c8562_row14_col7, #T_c8562_row14_col8, #T_c8562_row14_col9 {\n",
       "  background-color: #023858;\n",
       "  color: #f1f1f1;\n",
       "}\n",
       "#T_c8562_row0_col2, #T_c8562_row0_col3, #T_c8562_row0_col4, #T_c8562_row0_col6, #T_c8562_row0_col7, #T_c8562_row0_col8, #T_c8562_row0_col9, #T_c8562_row1_col2, #T_c8562_row1_col4, #T_c8562_row1_col5, #T_c8562_row1_col6, #T_c8562_row1_col7, #T_c8562_row1_col8, #T_c8562_row1_col9, #T_c8562_row2_col2, #T_c8562_row2_col6, #T_c8562_row2_col7, #T_c8562_row2_col8, #T_c8562_row2_col9, #T_c8562_row3_col0, #T_c8562_row3_col2, #T_c8562_row3_col3, #T_c8562_row3_col4, #T_c8562_row3_col5, #T_c8562_row3_col6, #T_c8562_row3_col7, #T_c8562_row3_col8, #T_c8562_row3_col9, #T_c8562_row4_col1, #T_c8562_row4_col2, #T_c8562_row4_col3, #T_c8562_row4_col4, #T_c8562_row4_col5, #T_c8562_row4_col6, #T_c8562_row4_col7, #T_c8562_row4_col8, #T_c8562_row4_col9, #T_c8562_row5_col1, #T_c8562_row5_col6, #T_c8562_row5_col7, #T_c8562_row5_col8, #T_c8562_row5_col9, #T_c8562_row6_col1, #T_c8562_row6_col5, #T_c8562_row6_col6, #T_c8562_row6_col7, #T_c8562_row6_col8, #T_c8562_row6_col9, #T_c8562_row7_col0, #T_c8562_row7_col1, #T_c8562_row7_col2, #T_c8562_row7_col3, #T_c8562_row7_col4, #T_c8562_row7_col5, #T_c8562_row7_col9, #T_c8562_row8_col0, #T_c8562_row8_col1, #T_c8562_row8_col2, #T_c8562_row8_col3, #T_c8562_row8_col4, #T_c8562_row8_col5, #T_c8562_row9_col0, #T_c8562_row9_col1, #T_c8562_row9_col2, #T_c8562_row9_col3, #T_c8562_row9_col4, #T_c8562_row9_col5, #T_c8562_row9_col8, #T_c8562_row10_col0, #T_c8562_row10_col1, #T_c8562_row10_col2, #T_c8562_row10_col3, #T_c8562_row10_col4, #T_c8562_row10_col5, #T_c8562_row11_col0, #T_c8562_row11_col1, #T_c8562_row11_col2, #T_c8562_row11_col3, #T_c8562_row11_col4, #T_c8562_row11_col5, #T_c8562_row12_col0, #T_c8562_row12_col1, #T_c8562_row12_col2, #T_c8562_row12_col3, #T_c8562_row12_col4, #T_c8562_row12_col5, #T_c8562_row13_col0, #T_c8562_row13_col1, #T_c8562_row13_col2, #T_c8562_row13_col3, #T_c8562_row13_col4, #T_c8562_row13_col5, #T_c8562_row14_col0, #T_c8562_row14_col1, #T_c8562_row14_col2, #T_c8562_row14_col3, #T_c8562_row14_col4, #T_c8562_row14_col5 {\n",
       "  background-color: #fff7fb;\n",
       "  color: #000000;\n",
       "}\n",
       "</style>\n",
       "<table id=\"T_c8562\">\n",
       "  <thead>\n",
       "    <tr>\n",
       "      <th class=\"blank level0\" >&nbsp;</th>\n",
       "      <th id=\"T_c8562_level0_col0\" class=\"col_heading level0 col0\" >doc1</th>\n",
       "      <th id=\"T_c8562_level0_col1\" class=\"col_heading level0 col1\" >doc2</th>\n",
       "      <th id=\"T_c8562_level0_col2\" class=\"col_heading level0 col2\" >doc3</th>\n",
       "      <th id=\"T_c8562_level0_col3\" class=\"col_heading level0 col3\" >doc4</th>\n",
       "      <th id=\"T_c8562_level0_col4\" class=\"col_heading level0 col4\" >doc5</th>\n",
       "      <th id=\"T_c8562_level0_col5\" class=\"col_heading level0 col5\" >doc6</th>\n",
       "      <th id=\"T_c8562_level0_col6\" class=\"col_heading level0 col6\" >doc7</th>\n",
       "      <th id=\"T_c8562_level0_col7\" class=\"col_heading level0 col7\" >doc8</th>\n",
       "      <th id=\"T_c8562_level0_col8\" class=\"col_heading level0 col8\" >doc9</th>\n",
       "      <th id=\"T_c8562_level0_col9\" class=\"col_heading level0 col9\" >doc10</th>\n",
       "    </tr>\n",
       "  </thead>\n",
       "  <tbody>\n",
       "    <tr>\n",
       "      <th id=\"T_c8562_level0_row0\" class=\"row_heading level0 row0\" >antony</th>\n",
       "      <td id=\"T_c8562_row0_col0\" class=\"data row0 col0\" >0.522879</td>\n",
       "      <td id=\"T_c8562_row0_col1\" class=\"data row0 col1\" >0.522879</td>\n",
       "      <td id=\"T_c8562_row0_col2\" class=\"data row0 col2\" >0.000000</td>\n",
       "      <td id=\"T_c8562_row0_col3\" class=\"data row0 col3\" >0.000000</td>\n",
       "      <td id=\"T_c8562_row0_col4\" class=\"data row0 col4\" >0.000000</td>\n",
       "      <td id=\"T_c8562_row0_col5\" class=\"data row0 col5\" >0.522879</td>\n",
       "      <td id=\"T_c8562_row0_col6\" class=\"data row0 col6\" >0.000000</td>\n",
       "      <td id=\"T_c8562_row0_col7\" class=\"data row0 col7\" >0.000000</td>\n",
       "      <td id=\"T_c8562_row0_col8\" class=\"data row0 col8\" >0.000000</td>\n",
       "      <td id=\"T_c8562_row0_col9\" class=\"data row0 col9\" >0.000000</td>\n",
       "    </tr>\n",
       "    <tr>\n",
       "      <th id=\"T_c8562_level0_row1\" class=\"row_heading level0 row1\" >brutus</th>\n",
       "      <td id=\"T_c8562_row1_col0\" class=\"data row1 col0\" >0.522879</td>\n",
       "      <td id=\"T_c8562_row1_col1\" class=\"data row1 col1\" >0.522879</td>\n",
       "      <td id=\"T_c8562_row1_col2\" class=\"data row1 col2\" >0.000000</td>\n",
       "      <td id=\"T_c8562_row1_col3\" class=\"data row1 col3\" >0.522879</td>\n",
       "      <td id=\"T_c8562_row1_col4\" class=\"data row1 col4\" >0.000000</td>\n",
       "      <td id=\"T_c8562_row1_col5\" class=\"data row1 col5\" >0.000000</td>\n",
       "      <td id=\"T_c8562_row1_col6\" class=\"data row1 col6\" >0.000000</td>\n",
       "      <td id=\"T_c8562_row1_col7\" class=\"data row1 col7\" >0.000000</td>\n",
       "      <td id=\"T_c8562_row1_col8\" class=\"data row1 col8\" >0.000000</td>\n",
       "      <td id=\"T_c8562_row1_col9\" class=\"data row1 col9\" >0.000000</td>\n",
       "    </tr>\n",
       "    <tr>\n",
       "      <th id=\"T_c8562_level0_row2\" class=\"row_heading level0 row2\" >caeser</th>\n",
       "      <td id=\"T_c8562_row2_col0\" class=\"data row2 col0\" >0.301030</td>\n",
       "      <td id=\"T_c8562_row2_col1\" class=\"data row2 col1\" >0.301030</td>\n",
       "      <td id=\"T_c8562_row2_col2\" class=\"data row2 col2\" >0.000000</td>\n",
       "      <td id=\"T_c8562_row2_col3\" class=\"data row2 col3\" >0.301030</td>\n",
       "      <td id=\"T_c8562_row2_col4\" class=\"data row2 col4\" >0.301030</td>\n",
       "      <td id=\"T_c8562_row2_col5\" class=\"data row2 col5\" >0.301030</td>\n",
       "      <td id=\"T_c8562_row2_col6\" class=\"data row2 col6\" >0.000000</td>\n",
       "      <td id=\"T_c8562_row2_col7\" class=\"data row2 col7\" >0.000000</td>\n",
       "      <td id=\"T_c8562_row2_col8\" class=\"data row2 col8\" >0.000000</td>\n",
       "      <td id=\"T_c8562_row2_col9\" class=\"data row2 col9\" >0.000000</td>\n",
       "    </tr>\n",
       "    <tr>\n",
       "      <th id=\"T_c8562_level0_row3\" class=\"row_heading level0 row3\" >calpurnia</th>\n",
       "      <td id=\"T_c8562_row3_col0\" class=\"data row3 col0\" >0.000000</td>\n",
       "      <td id=\"T_c8562_row3_col1\" class=\"data row3 col1\" >1.000000</td>\n",
       "      <td id=\"T_c8562_row3_col2\" class=\"data row3 col2\" >0.000000</td>\n",
       "      <td id=\"T_c8562_row3_col3\" class=\"data row3 col3\" >0.000000</td>\n",
       "      <td id=\"T_c8562_row3_col4\" class=\"data row3 col4\" >0.000000</td>\n",
       "      <td id=\"T_c8562_row3_col5\" class=\"data row3 col5\" >0.000000</td>\n",
       "      <td id=\"T_c8562_row3_col6\" class=\"data row3 col6\" >0.000000</td>\n",
       "      <td id=\"T_c8562_row3_col7\" class=\"data row3 col7\" >0.000000</td>\n",
       "      <td id=\"T_c8562_row3_col8\" class=\"data row3 col8\" >0.000000</td>\n",
       "      <td id=\"T_c8562_row3_col9\" class=\"data row3 col9\" >0.000000</td>\n",
       "    </tr>\n",
       "    <tr>\n",
       "      <th id=\"T_c8562_level0_row4\" class=\"row_heading level0 row4\" >cleopatra</th>\n",
       "      <td id=\"T_c8562_row4_col0\" class=\"data row4 col0\" >1.000000</td>\n",
       "      <td id=\"T_c8562_row4_col1\" class=\"data row4 col1\" >0.000000</td>\n",
       "      <td id=\"T_c8562_row4_col2\" class=\"data row4 col2\" >0.000000</td>\n",
       "      <td id=\"T_c8562_row4_col3\" class=\"data row4 col3\" >0.000000</td>\n",
       "      <td id=\"T_c8562_row4_col4\" class=\"data row4 col4\" >0.000000</td>\n",
       "      <td id=\"T_c8562_row4_col5\" class=\"data row4 col5\" >0.000000</td>\n",
       "      <td id=\"T_c8562_row4_col6\" class=\"data row4 col6\" >0.000000</td>\n",
       "      <td id=\"T_c8562_row4_col7\" class=\"data row4 col7\" >0.000000</td>\n",
       "      <td id=\"T_c8562_row4_col8\" class=\"data row4 col8\" >0.000000</td>\n",
       "      <td id=\"T_c8562_row4_col9\" class=\"data row4 col9\" >0.000000</td>\n",
       "    </tr>\n",
       "    <tr>\n",
       "      <th id=\"T_c8562_level0_row5\" class=\"row_heading level0 row5\" >mercy</th>\n",
       "      <td id=\"T_c8562_row5_col0\" class=\"data row5 col0\" >0.301030</td>\n",
       "      <td id=\"T_c8562_row5_col1\" class=\"data row5 col1\" >0.000000</td>\n",
       "      <td id=\"T_c8562_row5_col2\" class=\"data row5 col2\" >0.301030</td>\n",
       "      <td id=\"T_c8562_row5_col3\" class=\"data row5 col3\" >0.301030</td>\n",
       "      <td id=\"T_c8562_row5_col4\" class=\"data row5 col4\" >0.301030</td>\n",
       "      <td id=\"T_c8562_row5_col5\" class=\"data row5 col5\" >0.301030</td>\n",
       "      <td id=\"T_c8562_row5_col6\" class=\"data row5 col6\" >0.000000</td>\n",
       "      <td id=\"T_c8562_row5_col7\" class=\"data row5 col7\" >0.000000</td>\n",
       "      <td id=\"T_c8562_row5_col8\" class=\"data row5 col8\" >0.000000</td>\n",
       "      <td id=\"T_c8562_row5_col9\" class=\"data row5 col9\" >0.000000</td>\n",
       "    </tr>\n",
       "    <tr>\n",
       "      <th id=\"T_c8562_level0_row6\" class=\"row_heading level0 row6\" >worser</th>\n",
       "      <td id=\"T_c8562_row6_col0\" class=\"data row6 col0\" >0.397940</td>\n",
       "      <td id=\"T_c8562_row6_col1\" class=\"data row6 col1\" >0.000000</td>\n",
       "      <td id=\"T_c8562_row6_col2\" class=\"data row6 col2\" >0.397940</td>\n",
       "      <td id=\"T_c8562_row6_col3\" class=\"data row6 col3\" >0.397940</td>\n",
       "      <td id=\"T_c8562_row6_col4\" class=\"data row6 col4\" >0.397940</td>\n",
       "      <td id=\"T_c8562_row6_col5\" class=\"data row6 col5\" >0.000000</td>\n",
       "      <td id=\"T_c8562_row6_col6\" class=\"data row6 col6\" >0.000000</td>\n",
       "      <td id=\"T_c8562_row6_col7\" class=\"data row6 col7\" >0.000000</td>\n",
       "      <td id=\"T_c8562_row6_col8\" class=\"data row6 col8\" >0.000000</td>\n",
       "      <td id=\"T_c8562_row6_col9\" class=\"data row6 col9\" >0.000000</td>\n",
       "    </tr>\n",
       "    <tr>\n",
       "      <th id=\"T_c8562_level0_row7\" class=\"row_heading level0 row7\" >angels</th>\n",
       "      <td id=\"T_c8562_row7_col0\" class=\"data row7 col0\" >0.000000</td>\n",
       "      <td id=\"T_c8562_row7_col1\" class=\"data row7 col1\" >0.000000</td>\n",
       "      <td id=\"T_c8562_row7_col2\" class=\"data row7 col2\" >0.000000</td>\n",
       "      <td id=\"T_c8562_row7_col3\" class=\"data row7 col3\" >0.000000</td>\n",
       "      <td id=\"T_c8562_row7_col4\" class=\"data row7 col4\" >0.000000</td>\n",
       "      <td id=\"T_c8562_row7_col5\" class=\"data row7 col5\" >0.000000</td>\n",
       "      <td id=\"T_c8562_row7_col6\" class=\"data row7 col6\" >0.522879</td>\n",
       "      <td id=\"T_c8562_row7_col7\" class=\"data row7 col7\" >0.522879</td>\n",
       "      <td id=\"T_c8562_row7_col8\" class=\"data row7 col8\" >0.522879</td>\n",
       "      <td id=\"T_c8562_row7_col9\" class=\"data row7 col9\" >0.000000</td>\n",
       "    </tr>\n",
       "    <tr>\n",
       "      <th id=\"T_c8562_level0_row8\" class=\"row_heading level0 row8\" >fools</th>\n",
       "      <td id=\"T_c8562_row8_col0\" class=\"data row8 col0\" >0.000000</td>\n",
       "      <td id=\"T_c8562_row8_col1\" class=\"data row8 col1\" >0.000000</td>\n",
       "      <td id=\"T_c8562_row8_col2\" class=\"data row8 col2\" >0.000000</td>\n",
       "      <td id=\"T_c8562_row8_col3\" class=\"data row8 col3\" >0.000000</td>\n",
       "      <td id=\"T_c8562_row8_col4\" class=\"data row8 col4\" >0.000000</td>\n",
       "      <td id=\"T_c8562_row8_col5\" class=\"data row8 col5\" >0.000000</td>\n",
       "      <td id=\"T_c8562_row8_col6\" class=\"data row8 col6\" >0.397940</td>\n",
       "      <td id=\"T_c8562_row8_col7\" class=\"data row8 col7\" >0.397940</td>\n",
       "      <td id=\"T_c8562_row8_col8\" class=\"data row8 col8\" >0.397940</td>\n",
       "      <td id=\"T_c8562_row8_col9\" class=\"data row8 col9\" >0.397940</td>\n",
       "    </tr>\n",
       "    <tr>\n",
       "      <th id=\"T_c8562_level0_row9\" class=\"row_heading level0 row9\" >fear</th>\n",
       "      <td id=\"T_c8562_row9_col0\" class=\"data row9 col0\" >0.000000</td>\n",
       "      <td id=\"T_c8562_row9_col1\" class=\"data row9 col1\" >0.000000</td>\n",
       "      <td id=\"T_c8562_row9_col2\" class=\"data row9 col2\" >0.000000</td>\n",
       "      <td id=\"T_c8562_row9_col3\" class=\"data row9 col3\" >0.000000</td>\n",
       "      <td id=\"T_c8562_row9_col4\" class=\"data row9 col4\" >0.000000</td>\n",
       "      <td id=\"T_c8562_row9_col5\" class=\"data row9 col5\" >0.000000</td>\n",
       "      <td id=\"T_c8562_row9_col6\" class=\"data row9 col6\" >0.522879</td>\n",
       "      <td id=\"T_c8562_row9_col7\" class=\"data row9 col7\" >0.522879</td>\n",
       "      <td id=\"T_c8562_row9_col8\" class=\"data row9 col8\" >0.000000</td>\n",
       "      <td id=\"T_c8562_row9_col9\" class=\"data row9 col9\" >0.522879</td>\n",
       "    </tr>\n",
       "    <tr>\n",
       "      <th id=\"T_c8562_level0_row10\" class=\"row_heading level0 row10\" >in</th>\n",
       "      <td id=\"T_c8562_row10_col0\" class=\"data row10 col0\" >0.000000</td>\n",
       "      <td id=\"T_c8562_row10_col1\" class=\"data row10 col1\" >0.000000</td>\n",
       "      <td id=\"T_c8562_row10_col2\" class=\"data row10 col2\" >0.000000</td>\n",
       "      <td id=\"T_c8562_row10_col3\" class=\"data row10 col3\" >0.000000</td>\n",
       "      <td id=\"T_c8562_row10_col4\" class=\"data row10 col4\" >0.000000</td>\n",
       "      <td id=\"T_c8562_row10_col5\" class=\"data row10 col5\" >0.000000</td>\n",
       "      <td id=\"T_c8562_row10_col6\" class=\"data row10 col6\" >0.397940</td>\n",
       "      <td id=\"T_c8562_row10_col7\" class=\"data row10 col7\" >0.397940</td>\n",
       "      <td id=\"T_c8562_row10_col8\" class=\"data row10 col8\" >0.397940</td>\n",
       "      <td id=\"T_c8562_row10_col9\" class=\"data row10 col9\" >0.397940</td>\n",
       "    </tr>\n",
       "    <tr>\n",
       "      <th id=\"T_c8562_level0_row11\" class=\"row_heading level0 row11\" >rush</th>\n",
       "      <td id=\"T_c8562_row11_col0\" class=\"data row11 col0\" >0.000000</td>\n",
       "      <td id=\"T_c8562_row11_col1\" class=\"data row11 col1\" >0.000000</td>\n",
       "      <td id=\"T_c8562_row11_col2\" class=\"data row11 col2\" >0.000000</td>\n",
       "      <td id=\"T_c8562_row11_col3\" class=\"data row11 col3\" >0.000000</td>\n",
       "      <td id=\"T_c8562_row11_col4\" class=\"data row11 col4\" >0.000000</td>\n",
       "      <td id=\"T_c8562_row11_col5\" class=\"data row11 col5\" >0.000000</td>\n",
       "      <td id=\"T_c8562_row11_col6\" class=\"data row11 col6\" >0.397940</td>\n",
       "      <td id=\"T_c8562_row11_col7\" class=\"data row11 col7\" >0.397940</td>\n",
       "      <td id=\"T_c8562_row11_col8\" class=\"data row11 col8\" >0.397940</td>\n",
       "      <td id=\"T_c8562_row11_col9\" class=\"data row11 col9\" >0.397940</td>\n",
       "    </tr>\n",
       "    <tr>\n",
       "      <th id=\"T_c8562_level0_row12\" class=\"row_heading level0 row12\" >to</th>\n",
       "      <td id=\"T_c8562_row12_col0\" class=\"data row12 col0\" >0.000000</td>\n",
       "      <td id=\"T_c8562_row12_col1\" class=\"data row12 col1\" >0.000000</td>\n",
       "      <td id=\"T_c8562_row12_col2\" class=\"data row12 col2\" >0.000000</td>\n",
       "      <td id=\"T_c8562_row12_col3\" class=\"data row12 col3\" >0.000000</td>\n",
       "      <td id=\"T_c8562_row12_col4\" class=\"data row12 col4\" >0.000000</td>\n",
       "      <td id=\"T_c8562_row12_col5\" class=\"data row12 col5\" >0.000000</td>\n",
       "      <td id=\"T_c8562_row12_col6\" class=\"data row12 col6\" >0.397940</td>\n",
       "      <td id=\"T_c8562_row12_col7\" class=\"data row12 col7\" >0.397940</td>\n",
       "      <td id=\"T_c8562_row12_col8\" class=\"data row12 col8\" >0.397940</td>\n",
       "      <td id=\"T_c8562_row12_col9\" class=\"data row12 col9\" >0.397940</td>\n",
       "    </tr>\n",
       "    <tr>\n",
       "      <th id=\"T_c8562_level0_row13\" class=\"row_heading level0 row13\" >tread</th>\n",
       "      <td id=\"T_c8562_row13_col0\" class=\"data row13 col0\" >0.000000</td>\n",
       "      <td id=\"T_c8562_row13_col1\" class=\"data row13 col1\" >0.000000</td>\n",
       "      <td id=\"T_c8562_row13_col2\" class=\"data row13 col2\" >0.000000</td>\n",
       "      <td id=\"T_c8562_row13_col3\" class=\"data row13 col3\" >0.000000</td>\n",
       "      <td id=\"T_c8562_row13_col4\" class=\"data row13 col4\" >0.000000</td>\n",
       "      <td id=\"T_c8562_row13_col5\" class=\"data row13 col5\" >0.000000</td>\n",
       "      <td id=\"T_c8562_row13_col6\" class=\"data row13 col6\" >0.397940</td>\n",
       "      <td id=\"T_c8562_row13_col7\" class=\"data row13 col7\" >0.397940</td>\n",
       "      <td id=\"T_c8562_row13_col8\" class=\"data row13 col8\" >0.397940</td>\n",
       "      <td id=\"T_c8562_row13_col9\" class=\"data row13 col9\" >0.397940</td>\n",
       "    </tr>\n",
       "    <tr>\n",
       "      <th id=\"T_c8562_level0_row14\" class=\"row_heading level0 row14\" >where</th>\n",
       "      <td id=\"T_c8562_row14_col0\" class=\"data row14 col0\" >0.000000</td>\n",
       "      <td id=\"T_c8562_row14_col1\" class=\"data row14 col1\" >0.000000</td>\n",
       "      <td id=\"T_c8562_row14_col2\" class=\"data row14 col2\" >0.000000</td>\n",
       "      <td id=\"T_c8562_row14_col3\" class=\"data row14 col3\" >0.000000</td>\n",
       "      <td id=\"T_c8562_row14_col4\" class=\"data row14 col4\" >0.000000</td>\n",
       "      <td id=\"T_c8562_row14_col5\" class=\"data row14 col5\" >0.000000</td>\n",
       "      <td id=\"T_c8562_row14_col6\" class=\"data row14 col6\" >0.397940</td>\n",
       "      <td id=\"T_c8562_row14_col7\" class=\"data row14 col7\" >0.397940</td>\n",
       "      <td id=\"T_c8562_row14_col8\" class=\"data row14 col8\" >0.397940</td>\n",
       "      <td id=\"T_c8562_row14_col9\" class=\"data row14 col9\" >0.397940</td>\n",
       "    </tr>\n",
       "  </tbody>\n",
       "</table>\n"
      ],
      "text/plain": [
       "<pandas.io.formats.style.Styler at 0x1cb08dccdc0>"
      ]
     },
     "execution_count": 277,
     "metadata": {},
     "output_type": "execute_result"
    }
   ],
   "source": [
    "TF_IDF = TF_WightedLog.multiply(IDF['idf'], axis=0)\n",
    "\n",
    "TF_IDF.style.background_gradient(cmap='PuBu',axis=1)"
   ]
  },
  {
   "cell_type": "markdown",
   "metadata": {},
   "source": [
    "## **Document Lenght and Normalizaed TF-IDF**"
   ]
  },
  {
   "cell_type": "markdown",
   "metadata": {},
   "source": [
    "### **Document Lenght**"
   ]
  },
  {
   "cell_type": "code",
   "execution_count": 278,
   "metadata": {},
   "outputs": [],
   "source": [
    "def Calculate_DocLenght(TF_IDF):\n",
    "\n",
    "    DocLenght = {}\n",
    "\n",
    "    for i,col in enumerate(TF_IDF):\n",
    "        \n",
    "        DocLenght['doc'+str(i+1)] = np.sqrt( TF_IDF[col].apply(lambda x : x**2 ).sum() )   \n",
    "            \n",
    "    \n",
    "    return pd.DataFrame(pd.Series(DocLenght), columns=['Document Lenght'])"
   ]
  },
  {
   "cell_type": "code",
   "execution_count": 279,
   "metadata": {},
   "outputs": [
    {
     "data": {
      "text/html": [
       "<style type=\"text/css\">\n",
       "#T_0f694_row0_col0 {\n",
       "  background-color: #023858;\n",
       "  color: #f1f1f1;\n",
       "}\n",
       "#T_0f694_row1_col0 {\n",
       "  background-color: #045585;\n",
       "  color: #f1f1f1;\n",
       "}\n",
       "#T_0f694_row2_col0 {\n",
       "  background-color: #fff7fb;\n",
       "  color: #000000;\n",
       "}\n",
       "#T_0f694_row3_col0 {\n",
       "  background-color: #b7c5df;\n",
       "  color: #000000;\n",
       "}\n",
       "#T_0f694_row4_col0 {\n",
       "  background-color: #f1ebf4;\n",
       "  color: #000000;\n",
       "}\n",
       "#T_0f694_row5_col0 {\n",
       "  background-color: #dbdaeb;\n",
       "  color: #000000;\n",
       "}\n",
       "#T_0f694_row6_col0, #T_0f694_row7_col0 {\n",
       "  background-color: #046299;\n",
       "  color: #f1f1f1;\n",
       "}\n",
       "#T_0f694_row8_col0, #T_0f694_row9_col0 {\n",
       "  background-color: #1b7eb7;\n",
       "  color: #f1f1f1;\n",
       "}\n",
       "</style>\n",
       "<table id=\"T_0f694\">\n",
       "  <thead>\n",
       "    <tr>\n",
       "      <th class=\"blank level0\" >&nbsp;</th>\n",
       "      <th id=\"T_0f694_level0_col0\" class=\"col_heading level0 col0\" >Document Lenght</th>\n",
       "    </tr>\n",
       "  </thead>\n",
       "  <tbody>\n",
       "    <tr>\n",
       "      <th id=\"T_0f694_level0_row0\" class=\"row_heading level0 row0\" >doc1</th>\n",
       "      <td id=\"T_0f694_row0_col0\" class=\"data row0 col0\" >1.373462</td>\n",
       "    </tr>\n",
       "    <tr>\n",
       "      <th id=\"T_0f694_level0_row1\" class=\"row_heading level0 row1\" >doc2</th>\n",
       "      <td id=\"T_0f694_row1_col0\" class=\"data row1 col0\" >1.279618</td>\n",
       "    </tr>\n",
       "    <tr>\n",
       "      <th id=\"T_0f694_level0_row2\" class=\"row_heading level0 row2\" >doc3</th>\n",
       "      <td id=\"T_0f694_row2_col0\" class=\"data row2 col0\" >0.498974</td>\n",
       "    </tr>\n",
       "    <tr>\n",
       "      <th id=\"T_0f694_level0_row3\" class=\"row_heading level0 row3\" >doc4</th>\n",
       "      <td id=\"T_0f694_row3_col0\" class=\"data row3 col0\" >0.782941</td>\n",
       "    </tr>\n",
       "    <tr>\n",
       "      <th id=\"T_0f694_level0_row4\" class=\"row_heading level0 row4\" >doc5</th>\n",
       "      <td id=\"T_0f694_row4_col0\" class=\"data row4 col0\" >0.582747</td>\n",
       "    </tr>\n",
       "    <tr>\n",
       "      <th id=\"T_0f694_level0_row5\" class=\"row_heading level0 row5\" >doc6</th>\n",
       "      <td id=\"T_0f694_row5_col0\" class=\"data row5 col0\" >0.674270</td>\n",
       "    </tr>\n",
       "    <tr>\n",
       "      <th id=\"T_0f694_level0_row6\" class=\"row_heading level0 row6\" >doc7</th>\n",
       "      <td id=\"T_0f694_row6_col0\" class=\"data row6 col0\" >1.223496</td>\n",
       "    </tr>\n",
       "    <tr>\n",
       "      <th id=\"T_0f694_level0_row7\" class=\"row_heading level0 row7\" >doc8</th>\n",
       "      <td id=\"T_0f694_row7_col0\" class=\"data row7 col0\" >1.223496</td>\n",
       "    </tr>\n",
       "    <tr>\n",
       "      <th id=\"T_0f694_level0_row8\" class=\"row_heading level0 row8\" >doc9</th>\n",
       "      <td id=\"T_0f694_row8_col0\" class=\"data row8 col0\" >1.106137</td>\n",
       "    </tr>\n",
       "    <tr>\n",
       "      <th id=\"T_0f694_level0_row9\" class=\"row_heading level0 row9\" >doc10</th>\n",
       "      <td id=\"T_0f694_row9_col0\" class=\"data row9 col0\" >1.106137</td>\n",
       "    </tr>\n",
       "  </tbody>\n",
       "</table>\n"
      ],
      "text/plain": [
       "<pandas.io.formats.style.Styler at 0x1cb091036d0>"
      ]
     },
     "execution_count": 279,
     "metadata": {},
     "output_type": "execute_result"
    }
   ],
   "source": [
    "DocLenght = Calculate_DocLenght(TF_IDF)\n",
    "DocLenght.style.background_gradient(cmap='PuBu',axis=0)"
   ]
  },
  {
   "cell_type": "markdown",
   "metadata": {},
   "source": [
    "### **Normalizaed TF-IDF**"
   ]
  },
  {
   "cell_type": "code",
   "execution_count": 280,
   "metadata": {},
   "outputs": [
    {
     "data": {
      "text/plain": [
       "antony       0.380701\n",
       "brutus       0.380701\n",
       "caeser       0.219176\n",
       "calpurnia    0.000000\n",
       "cleopatra    0.728087\n",
       "mercy        0.219176\n",
       "worser       0.289735\n",
       "angels       0.000000\n",
       "fools        0.000000\n",
       "fear         0.000000\n",
       "in           0.000000\n",
       "rush         0.000000\n",
       "to           0.000000\n",
       "tread        0.000000\n",
       "where        0.000000\n",
       "Name: doc1, dtype: float64"
      ]
     },
     "execution_count": 280,
     "metadata": {},
     "output_type": "execute_result"
    }
   ],
   "source": [
    "TF_IDF['doc1']  / DocLenght.loc['doc1'].values "
   ]
  },
  {
   "cell_type": "code",
   "execution_count": 281,
   "metadata": {},
   "outputs": [],
   "source": [
    "def Calculate_Norm_TFIDF(TF_IDF, DocLenght):\n",
    "\n",
    "    Norm_TFIDF = TF_IDF.copy()\n",
    "\n",
    "    for col in Norm_TFIDF:\n",
    "        \n",
    "        Norm_TFIDF[col] = Norm_TFIDF[col] / DocLenght.loc[col].values               \n",
    "    \n",
    "    return Norm_TFIDF"
   ]
  },
  {
   "cell_type": "code",
   "execution_count": 282,
   "metadata": {},
   "outputs": [
    {
     "data": {
      "text/html": [
       "<style type=\"text/css\">\n",
       "#T_f0550_row0_col0, #T_f0550_row0_col1, #T_f0550_row1_col0, #T_f0550_row1_col1 {\n",
       "  background-color: #69a5cc;\n",
       "  color: #f1f1f1;\n",
       "}\n",
       "#T_f0550_row0_col2, #T_f0550_row0_col3, #T_f0550_row0_col4, #T_f0550_row0_col6, #T_f0550_row0_col7, #T_f0550_row0_col8, #T_f0550_row0_col9, #T_f0550_row1_col2, #T_f0550_row1_col4, #T_f0550_row1_col5, #T_f0550_row1_col6, #T_f0550_row1_col7, #T_f0550_row1_col8, #T_f0550_row1_col9, #T_f0550_row2_col2, #T_f0550_row2_col6, #T_f0550_row2_col7, #T_f0550_row2_col8, #T_f0550_row2_col9, #T_f0550_row3_col0, #T_f0550_row3_col2, #T_f0550_row3_col3, #T_f0550_row3_col4, #T_f0550_row3_col5, #T_f0550_row3_col6, #T_f0550_row3_col7, #T_f0550_row3_col8, #T_f0550_row3_col9, #T_f0550_row4_col1, #T_f0550_row4_col2, #T_f0550_row4_col3, #T_f0550_row4_col4, #T_f0550_row4_col5, #T_f0550_row4_col6, #T_f0550_row4_col7, #T_f0550_row4_col8, #T_f0550_row4_col9, #T_f0550_row5_col1, #T_f0550_row5_col6, #T_f0550_row5_col7, #T_f0550_row5_col8, #T_f0550_row5_col9, #T_f0550_row6_col1, #T_f0550_row6_col5, #T_f0550_row6_col6, #T_f0550_row6_col7, #T_f0550_row6_col8, #T_f0550_row6_col9, #T_f0550_row7_col0, #T_f0550_row7_col1, #T_f0550_row7_col2, #T_f0550_row7_col3, #T_f0550_row7_col4, #T_f0550_row7_col5, #T_f0550_row7_col9, #T_f0550_row8_col0, #T_f0550_row8_col1, #T_f0550_row8_col2, #T_f0550_row8_col3, #T_f0550_row8_col4, #T_f0550_row8_col5, #T_f0550_row9_col0, #T_f0550_row9_col1, #T_f0550_row9_col2, #T_f0550_row9_col3, #T_f0550_row9_col4, #T_f0550_row9_col5, #T_f0550_row9_col8, #T_f0550_row10_col0, #T_f0550_row10_col1, #T_f0550_row10_col2, #T_f0550_row10_col3, #T_f0550_row10_col4, #T_f0550_row10_col5, #T_f0550_row11_col0, #T_f0550_row11_col1, #T_f0550_row11_col2, #T_f0550_row11_col3, #T_f0550_row11_col4, #T_f0550_row11_col5, #T_f0550_row12_col0, #T_f0550_row12_col1, #T_f0550_row12_col2, #T_f0550_row12_col3, #T_f0550_row12_col4, #T_f0550_row12_col5, #T_f0550_row13_col0, #T_f0550_row13_col1, #T_f0550_row13_col2, #T_f0550_row13_col3, #T_f0550_row13_col4, #T_f0550_row13_col5, #T_f0550_row14_col0, #T_f0550_row14_col1, #T_f0550_row14_col2, #T_f0550_row14_col3, #T_f0550_row14_col4, #T_f0550_row14_col5 {\n",
       "  background-color: #fff7fb;\n",
       "  color: #000000;\n",
       "}\n",
       "#T_f0550_row0_col5, #T_f0550_row1_col3, #T_f0550_row3_col1, #T_f0550_row4_col0, #T_f0550_row6_col2, #T_f0550_row6_col4, #T_f0550_row7_col6, #T_f0550_row7_col7, #T_f0550_row7_col8, #T_f0550_row9_col6, #T_f0550_row9_col7, #T_f0550_row9_col9 {\n",
       "  background-color: #023858;\n",
       "  color: #f1f1f1;\n",
       "}\n",
       "#T_f0550_row2_col0, #T_f0550_row2_col1, #T_f0550_row5_col0 {\n",
       "  background-color: #bfc9e1;\n",
       "  color: #000000;\n",
       "}\n",
       "#T_f0550_row2_col3, #T_f0550_row2_col5, #T_f0550_row5_col3, #T_f0550_row5_col5 {\n",
       "  background-color: #4e9ac6;\n",
       "  color: #f1f1f1;\n",
       "}\n",
       "#T_f0550_row2_col4, #T_f0550_row5_col2, #T_f0550_row5_col4 {\n",
       "  background-color: #056fae;\n",
       "  color: #f1f1f1;\n",
       "}\n",
       "#T_f0550_row6_col0 {\n",
       "  background-color: #9ebad9;\n",
       "  color: #000000;\n",
       "}\n",
       "#T_f0550_row6_col3, #T_f0550_row8_col6, #T_f0550_row8_col7, #T_f0550_row8_col8, #T_f0550_row8_col9, #T_f0550_row10_col6, #T_f0550_row10_col7, #T_f0550_row10_col8, #T_f0550_row10_col9, #T_f0550_row11_col6, #T_f0550_row11_col7, #T_f0550_row11_col8, #T_f0550_row11_col9, #T_f0550_row12_col6, #T_f0550_row12_col7, #T_f0550_row12_col8, #T_f0550_row12_col9, #T_f0550_row13_col6, #T_f0550_row13_col7, #T_f0550_row13_col8, #T_f0550_row13_col9, #T_f0550_row14_col6, #T_f0550_row14_col7, #T_f0550_row14_col8, #T_f0550_row14_col9 {\n",
       "  background-color: #056ead;\n",
       "  color: #f1f1f1;\n",
       "}\n",
       "</style>\n",
       "<table id=\"T_f0550\">\n",
       "  <thead>\n",
       "    <tr>\n",
       "      <th class=\"blank level0\" >&nbsp;</th>\n",
       "      <th id=\"T_f0550_level0_col0\" class=\"col_heading level0 col0\" >doc1</th>\n",
       "      <th id=\"T_f0550_level0_col1\" class=\"col_heading level0 col1\" >doc2</th>\n",
       "      <th id=\"T_f0550_level0_col2\" class=\"col_heading level0 col2\" >doc3</th>\n",
       "      <th id=\"T_f0550_level0_col3\" class=\"col_heading level0 col3\" >doc4</th>\n",
       "      <th id=\"T_f0550_level0_col4\" class=\"col_heading level0 col4\" >doc5</th>\n",
       "      <th id=\"T_f0550_level0_col5\" class=\"col_heading level0 col5\" >doc6</th>\n",
       "      <th id=\"T_f0550_level0_col6\" class=\"col_heading level0 col6\" >doc7</th>\n",
       "      <th id=\"T_f0550_level0_col7\" class=\"col_heading level0 col7\" >doc8</th>\n",
       "      <th id=\"T_f0550_level0_col8\" class=\"col_heading level0 col8\" >doc9</th>\n",
       "      <th id=\"T_f0550_level0_col9\" class=\"col_heading level0 col9\" >doc10</th>\n",
       "    </tr>\n",
       "  </thead>\n",
       "  <tbody>\n",
       "    <tr>\n",
       "      <th id=\"T_f0550_level0_row0\" class=\"row_heading level0 row0\" >antony</th>\n",
       "      <td id=\"T_f0550_row0_col0\" class=\"data row0 col0\" >0.380701</td>\n",
       "      <td id=\"T_f0550_row0_col1\" class=\"data row0 col1\" >0.408621</td>\n",
       "      <td id=\"T_f0550_row0_col2\" class=\"data row0 col2\" >0.000000</td>\n",
       "      <td id=\"T_f0550_row0_col3\" class=\"data row0 col3\" >0.000000</td>\n",
       "      <td id=\"T_f0550_row0_col4\" class=\"data row0 col4\" >0.000000</td>\n",
       "      <td id=\"T_f0550_row0_col5\" class=\"data row0 col5\" >0.775474</td>\n",
       "      <td id=\"T_f0550_row0_col6\" class=\"data row0 col6\" >0.000000</td>\n",
       "      <td id=\"T_f0550_row0_col7\" class=\"data row0 col7\" >0.000000</td>\n",
       "      <td id=\"T_f0550_row0_col8\" class=\"data row0 col8\" >0.000000</td>\n",
       "      <td id=\"T_f0550_row0_col9\" class=\"data row0 col9\" >0.000000</td>\n",
       "    </tr>\n",
       "    <tr>\n",
       "      <th id=\"T_f0550_level0_row1\" class=\"row_heading level0 row1\" >brutus</th>\n",
       "      <td id=\"T_f0550_row1_col0\" class=\"data row1 col0\" >0.380701</td>\n",
       "      <td id=\"T_f0550_row1_col1\" class=\"data row1 col1\" >0.408621</td>\n",
       "      <td id=\"T_f0550_row1_col2\" class=\"data row1 col2\" >0.000000</td>\n",
       "      <td id=\"T_f0550_row1_col3\" class=\"data row1 col3\" >0.667839</td>\n",
       "      <td id=\"T_f0550_row1_col4\" class=\"data row1 col4\" >0.000000</td>\n",
       "      <td id=\"T_f0550_row1_col5\" class=\"data row1 col5\" >0.000000</td>\n",
       "      <td id=\"T_f0550_row1_col6\" class=\"data row1 col6\" >0.000000</td>\n",
       "      <td id=\"T_f0550_row1_col7\" class=\"data row1 col7\" >0.000000</td>\n",
       "      <td id=\"T_f0550_row1_col8\" class=\"data row1 col8\" >0.000000</td>\n",
       "      <td id=\"T_f0550_row1_col9\" class=\"data row1 col9\" >0.000000</td>\n",
       "    </tr>\n",
       "    <tr>\n",
       "      <th id=\"T_f0550_level0_row2\" class=\"row_heading level0 row2\" >caeser</th>\n",
       "      <td id=\"T_f0550_row2_col0\" class=\"data row2 col0\" >0.219176</td>\n",
       "      <td id=\"T_f0550_row2_col1\" class=\"data row2 col1\" >0.235250</td>\n",
       "      <td id=\"T_f0550_row2_col2\" class=\"data row2 col2\" >0.000000</td>\n",
       "      <td id=\"T_f0550_row2_col3\" class=\"data row2 col3\" >0.384486</td>\n",
       "      <td id=\"T_f0550_row2_col4\" class=\"data row2 col4\" >0.516570</td>\n",
       "      <td id=\"T_f0550_row2_col5\" class=\"data row2 col5\" >0.446453</td>\n",
       "      <td id=\"T_f0550_row2_col6\" class=\"data row2 col6\" >0.000000</td>\n",
       "      <td id=\"T_f0550_row2_col7\" class=\"data row2 col7\" >0.000000</td>\n",
       "      <td id=\"T_f0550_row2_col8\" class=\"data row2 col8\" >0.000000</td>\n",
       "      <td id=\"T_f0550_row2_col9\" class=\"data row2 col9\" >0.000000</td>\n",
       "    </tr>\n",
       "    <tr>\n",
       "      <th id=\"T_f0550_level0_row3\" class=\"row_heading level0 row3\" >calpurnia</th>\n",
       "      <td id=\"T_f0550_row3_col0\" class=\"data row3 col0\" >0.000000</td>\n",
       "      <td id=\"T_f0550_row3_col1\" class=\"data row3 col1\" >0.781483</td>\n",
       "      <td id=\"T_f0550_row3_col2\" class=\"data row3 col2\" >0.000000</td>\n",
       "      <td id=\"T_f0550_row3_col3\" class=\"data row3 col3\" >0.000000</td>\n",
       "      <td id=\"T_f0550_row3_col4\" class=\"data row3 col4\" >0.000000</td>\n",
       "      <td id=\"T_f0550_row3_col5\" class=\"data row3 col5\" >0.000000</td>\n",
       "      <td id=\"T_f0550_row3_col6\" class=\"data row3 col6\" >0.000000</td>\n",
       "      <td id=\"T_f0550_row3_col7\" class=\"data row3 col7\" >0.000000</td>\n",
       "      <td id=\"T_f0550_row3_col8\" class=\"data row3 col8\" >0.000000</td>\n",
       "      <td id=\"T_f0550_row3_col9\" class=\"data row3 col9\" >0.000000</td>\n",
       "    </tr>\n",
       "    <tr>\n",
       "      <th id=\"T_f0550_level0_row4\" class=\"row_heading level0 row4\" >cleopatra</th>\n",
       "      <td id=\"T_f0550_row4_col0\" class=\"data row4 col0\" >0.728087</td>\n",
       "      <td id=\"T_f0550_row4_col1\" class=\"data row4 col1\" >0.000000</td>\n",
       "      <td id=\"T_f0550_row4_col2\" class=\"data row4 col2\" >0.000000</td>\n",
       "      <td id=\"T_f0550_row4_col3\" class=\"data row4 col3\" >0.000000</td>\n",
       "      <td id=\"T_f0550_row4_col4\" class=\"data row4 col4\" >0.000000</td>\n",
       "      <td id=\"T_f0550_row4_col5\" class=\"data row4 col5\" >0.000000</td>\n",
       "      <td id=\"T_f0550_row4_col6\" class=\"data row4 col6\" >0.000000</td>\n",
       "      <td id=\"T_f0550_row4_col7\" class=\"data row4 col7\" >0.000000</td>\n",
       "      <td id=\"T_f0550_row4_col8\" class=\"data row4 col8\" >0.000000</td>\n",
       "      <td id=\"T_f0550_row4_col9\" class=\"data row4 col9\" >0.000000</td>\n",
       "    </tr>\n",
       "    <tr>\n",
       "      <th id=\"T_f0550_level0_row5\" class=\"row_heading level0 row5\" >mercy</th>\n",
       "      <td id=\"T_f0550_row5_col0\" class=\"data row5 col0\" >0.219176</td>\n",
       "      <td id=\"T_f0550_row5_col1\" class=\"data row5 col1\" >0.000000</td>\n",
       "      <td id=\"T_f0550_row5_col2\" class=\"data row5 col2\" >0.603298</td>\n",
       "      <td id=\"T_f0550_row5_col3\" class=\"data row5 col3\" >0.384486</td>\n",
       "      <td id=\"T_f0550_row5_col4\" class=\"data row5 col4\" >0.516570</td>\n",
       "      <td id=\"T_f0550_row5_col5\" class=\"data row5 col5\" >0.446453</td>\n",
       "      <td id=\"T_f0550_row5_col6\" class=\"data row5 col6\" >0.000000</td>\n",
       "      <td id=\"T_f0550_row5_col7\" class=\"data row5 col7\" >0.000000</td>\n",
       "      <td id=\"T_f0550_row5_col8\" class=\"data row5 col8\" >0.000000</td>\n",
       "      <td id=\"T_f0550_row5_col9\" class=\"data row5 col9\" >0.000000</td>\n",
       "    </tr>\n",
       "    <tr>\n",
       "      <th id=\"T_f0550_level0_row6\" class=\"row_heading level0 row6\" >worser</th>\n",
       "      <td id=\"T_f0550_row6_col0\" class=\"data row6 col0\" >0.289735</td>\n",
       "      <td id=\"T_f0550_row6_col1\" class=\"data row6 col1\" >0.000000</td>\n",
       "      <td id=\"T_f0550_row6_col2\" class=\"data row6 col2\" >0.797516</td>\n",
       "      <td id=\"T_f0550_row6_col3\" class=\"data row6 col3\" >0.508263</td>\n",
       "      <td id=\"T_f0550_row6_col4\" class=\"data row6 col4\" >0.682869</td>\n",
       "      <td id=\"T_f0550_row6_col5\" class=\"data row6 col5\" >0.000000</td>\n",
       "      <td id=\"T_f0550_row6_col6\" class=\"data row6 col6\" >0.000000</td>\n",
       "      <td id=\"T_f0550_row6_col7\" class=\"data row6 col7\" >0.000000</td>\n",
       "      <td id=\"T_f0550_row6_col8\" class=\"data row6 col8\" >0.000000</td>\n",
       "      <td id=\"T_f0550_row6_col9\" class=\"data row6 col9\" >0.000000</td>\n",
       "    </tr>\n",
       "    <tr>\n",
       "      <th id=\"T_f0550_level0_row7\" class=\"row_heading level0 row7\" >angels</th>\n",
       "      <td id=\"T_f0550_row7_col0\" class=\"data row7 col0\" >0.000000</td>\n",
       "      <td id=\"T_f0550_row7_col1\" class=\"data row7 col1\" >0.000000</td>\n",
       "      <td id=\"T_f0550_row7_col2\" class=\"data row7 col2\" >0.000000</td>\n",
       "      <td id=\"T_f0550_row7_col3\" class=\"data row7 col3\" >0.000000</td>\n",
       "      <td id=\"T_f0550_row7_col4\" class=\"data row7 col4\" >0.000000</td>\n",
       "      <td id=\"T_f0550_row7_col5\" class=\"data row7 col5\" >0.000000</td>\n",
       "      <td id=\"T_f0550_row7_col6\" class=\"data row7 col6\" >0.427365</td>\n",
       "      <td id=\"T_f0550_row7_col7\" class=\"data row7 col7\" >0.427365</td>\n",
       "      <td id=\"T_f0550_row7_col8\" class=\"data row7 col8\" >0.472707</td>\n",
       "      <td id=\"T_f0550_row7_col9\" class=\"data row7 col9\" >0.000000</td>\n",
       "    </tr>\n",
       "    <tr>\n",
       "      <th id=\"T_f0550_level0_row8\" class=\"row_heading level0 row8\" >fools</th>\n",
       "      <td id=\"T_f0550_row8_col0\" class=\"data row8 col0\" >0.000000</td>\n",
       "      <td id=\"T_f0550_row8_col1\" class=\"data row8 col1\" >0.000000</td>\n",
       "      <td id=\"T_f0550_row8_col2\" class=\"data row8 col2\" >0.000000</td>\n",
       "      <td id=\"T_f0550_row8_col3\" class=\"data row8 col3\" >0.000000</td>\n",
       "      <td id=\"T_f0550_row8_col4\" class=\"data row8 col4\" >0.000000</td>\n",
       "      <td id=\"T_f0550_row8_col5\" class=\"data row8 col5\" >0.000000</td>\n",
       "      <td id=\"T_f0550_row8_col6\" class=\"data row8 col6\" >0.325248</td>\n",
       "      <td id=\"T_f0550_row8_col7\" class=\"data row8 col7\" >0.325248</td>\n",
       "      <td id=\"T_f0550_row8_col8\" class=\"data row8 col8\" >0.359756</td>\n",
       "      <td id=\"T_f0550_row8_col9\" class=\"data row8 col9\" >0.359756</td>\n",
       "    </tr>\n",
       "    <tr>\n",
       "      <th id=\"T_f0550_level0_row9\" class=\"row_heading level0 row9\" >fear</th>\n",
       "      <td id=\"T_f0550_row9_col0\" class=\"data row9 col0\" >0.000000</td>\n",
       "      <td id=\"T_f0550_row9_col1\" class=\"data row9 col1\" >0.000000</td>\n",
       "      <td id=\"T_f0550_row9_col2\" class=\"data row9 col2\" >0.000000</td>\n",
       "      <td id=\"T_f0550_row9_col3\" class=\"data row9 col3\" >0.000000</td>\n",
       "      <td id=\"T_f0550_row9_col4\" class=\"data row9 col4\" >0.000000</td>\n",
       "      <td id=\"T_f0550_row9_col5\" class=\"data row9 col5\" >0.000000</td>\n",
       "      <td id=\"T_f0550_row9_col6\" class=\"data row9 col6\" >0.427365</td>\n",
       "      <td id=\"T_f0550_row9_col7\" class=\"data row9 col7\" >0.427365</td>\n",
       "      <td id=\"T_f0550_row9_col8\" class=\"data row9 col8\" >0.000000</td>\n",
       "      <td id=\"T_f0550_row9_col9\" class=\"data row9 col9\" >0.472707</td>\n",
       "    </tr>\n",
       "    <tr>\n",
       "      <th id=\"T_f0550_level0_row10\" class=\"row_heading level0 row10\" >in</th>\n",
       "      <td id=\"T_f0550_row10_col0\" class=\"data row10 col0\" >0.000000</td>\n",
       "      <td id=\"T_f0550_row10_col1\" class=\"data row10 col1\" >0.000000</td>\n",
       "      <td id=\"T_f0550_row10_col2\" class=\"data row10 col2\" >0.000000</td>\n",
       "      <td id=\"T_f0550_row10_col3\" class=\"data row10 col3\" >0.000000</td>\n",
       "      <td id=\"T_f0550_row10_col4\" class=\"data row10 col4\" >0.000000</td>\n",
       "      <td id=\"T_f0550_row10_col5\" class=\"data row10 col5\" >0.000000</td>\n",
       "      <td id=\"T_f0550_row10_col6\" class=\"data row10 col6\" >0.325248</td>\n",
       "      <td id=\"T_f0550_row10_col7\" class=\"data row10 col7\" >0.325248</td>\n",
       "      <td id=\"T_f0550_row10_col8\" class=\"data row10 col8\" >0.359756</td>\n",
       "      <td id=\"T_f0550_row10_col9\" class=\"data row10 col9\" >0.359756</td>\n",
       "    </tr>\n",
       "    <tr>\n",
       "      <th id=\"T_f0550_level0_row11\" class=\"row_heading level0 row11\" >rush</th>\n",
       "      <td id=\"T_f0550_row11_col0\" class=\"data row11 col0\" >0.000000</td>\n",
       "      <td id=\"T_f0550_row11_col1\" class=\"data row11 col1\" >0.000000</td>\n",
       "      <td id=\"T_f0550_row11_col2\" class=\"data row11 col2\" >0.000000</td>\n",
       "      <td id=\"T_f0550_row11_col3\" class=\"data row11 col3\" >0.000000</td>\n",
       "      <td id=\"T_f0550_row11_col4\" class=\"data row11 col4\" >0.000000</td>\n",
       "      <td id=\"T_f0550_row11_col5\" class=\"data row11 col5\" >0.000000</td>\n",
       "      <td id=\"T_f0550_row11_col6\" class=\"data row11 col6\" >0.325248</td>\n",
       "      <td id=\"T_f0550_row11_col7\" class=\"data row11 col7\" >0.325248</td>\n",
       "      <td id=\"T_f0550_row11_col8\" class=\"data row11 col8\" >0.359756</td>\n",
       "      <td id=\"T_f0550_row11_col9\" class=\"data row11 col9\" >0.359756</td>\n",
       "    </tr>\n",
       "    <tr>\n",
       "      <th id=\"T_f0550_level0_row12\" class=\"row_heading level0 row12\" >to</th>\n",
       "      <td id=\"T_f0550_row12_col0\" class=\"data row12 col0\" >0.000000</td>\n",
       "      <td id=\"T_f0550_row12_col1\" class=\"data row12 col1\" >0.000000</td>\n",
       "      <td id=\"T_f0550_row12_col2\" class=\"data row12 col2\" >0.000000</td>\n",
       "      <td id=\"T_f0550_row12_col3\" class=\"data row12 col3\" >0.000000</td>\n",
       "      <td id=\"T_f0550_row12_col4\" class=\"data row12 col4\" >0.000000</td>\n",
       "      <td id=\"T_f0550_row12_col5\" class=\"data row12 col5\" >0.000000</td>\n",
       "      <td id=\"T_f0550_row12_col6\" class=\"data row12 col6\" >0.325248</td>\n",
       "      <td id=\"T_f0550_row12_col7\" class=\"data row12 col7\" >0.325248</td>\n",
       "      <td id=\"T_f0550_row12_col8\" class=\"data row12 col8\" >0.359756</td>\n",
       "      <td id=\"T_f0550_row12_col9\" class=\"data row12 col9\" >0.359756</td>\n",
       "    </tr>\n",
       "    <tr>\n",
       "      <th id=\"T_f0550_level0_row13\" class=\"row_heading level0 row13\" >tread</th>\n",
       "      <td id=\"T_f0550_row13_col0\" class=\"data row13 col0\" >0.000000</td>\n",
       "      <td id=\"T_f0550_row13_col1\" class=\"data row13 col1\" >0.000000</td>\n",
       "      <td id=\"T_f0550_row13_col2\" class=\"data row13 col2\" >0.000000</td>\n",
       "      <td id=\"T_f0550_row13_col3\" class=\"data row13 col3\" >0.000000</td>\n",
       "      <td id=\"T_f0550_row13_col4\" class=\"data row13 col4\" >0.000000</td>\n",
       "      <td id=\"T_f0550_row13_col5\" class=\"data row13 col5\" >0.000000</td>\n",
       "      <td id=\"T_f0550_row13_col6\" class=\"data row13 col6\" >0.325248</td>\n",
       "      <td id=\"T_f0550_row13_col7\" class=\"data row13 col7\" >0.325248</td>\n",
       "      <td id=\"T_f0550_row13_col8\" class=\"data row13 col8\" >0.359756</td>\n",
       "      <td id=\"T_f0550_row13_col9\" class=\"data row13 col9\" >0.359756</td>\n",
       "    </tr>\n",
       "    <tr>\n",
       "      <th id=\"T_f0550_level0_row14\" class=\"row_heading level0 row14\" >where</th>\n",
       "      <td id=\"T_f0550_row14_col0\" class=\"data row14 col0\" >0.000000</td>\n",
       "      <td id=\"T_f0550_row14_col1\" class=\"data row14 col1\" >0.000000</td>\n",
       "      <td id=\"T_f0550_row14_col2\" class=\"data row14 col2\" >0.000000</td>\n",
       "      <td id=\"T_f0550_row14_col3\" class=\"data row14 col3\" >0.000000</td>\n",
       "      <td id=\"T_f0550_row14_col4\" class=\"data row14 col4\" >0.000000</td>\n",
       "      <td id=\"T_f0550_row14_col5\" class=\"data row14 col5\" >0.000000</td>\n",
       "      <td id=\"T_f0550_row14_col6\" class=\"data row14 col6\" >0.325248</td>\n",
       "      <td id=\"T_f0550_row14_col7\" class=\"data row14 col7\" >0.325248</td>\n",
       "      <td id=\"T_f0550_row14_col8\" class=\"data row14 col8\" >0.359756</td>\n",
       "      <td id=\"T_f0550_row14_col9\" class=\"data row14 col9\" >0.359756</td>\n",
       "    </tr>\n",
       "  </tbody>\n",
       "</table>\n"
      ],
      "text/plain": [
       "<pandas.io.formats.style.Styler at 0x1cb08cc3640>"
      ]
     },
     "execution_count": 282,
     "metadata": {},
     "output_type": "execute_result"
    }
   ],
   "source": [
    "Norm_TFIDF = Calculate_Norm_TFIDF(TF_IDF, DocLenght)\n",
    "\n",
    "Norm_TFIDF.style.background_gradient(cmap='PuBu',axis=0)"
   ]
  },
  {
   "cell_type": "markdown",
   "metadata": {},
   "source": [
    "# **Cosine Similarity and Ranking**"
   ]
  },
  {
   "cell_type": "markdown",
   "metadata": {},
   "source": [
    "## **Query Vectorizing Functions**"
   ]
  },
  {
   "cell_type": "code",
   "execution_count": 283,
   "metadata": {},
   "outputs": [],
   "source": [
    "def Calculate_QueryTF(All_Text):\n",
    "\n",
    "    TF = {token : 0 for token in All_Text}\n",
    "\n",
    "    for i,doc in enumerate(All_Text):\n",
    "        \n",
    "\n",
    "        for word in doc.split():\n",
    "\n",
    "            if TF[word] == 0:\n",
    "                \n",
    "                TF[word] = 1\n",
    "            \n",
    "            else:\n",
    "\n",
    "                TF[word] += 1\n",
    "    \n",
    "    return pd.DataFrame(TF, index=['tf']).T"
   ]
  },
  {
   "cell_type": "code",
   "execution_count": 284,
   "metadata": {},
   "outputs": [],
   "source": [
    "def Calculate_Query_TFWeightedLog(TF):\n",
    "\n",
    "    TF_WightedLog_DF= TF.copy()\n",
    "\n",
    "    for col in TF:\n",
    "        TF_WightedLog_DF[col] = TF[col].apply(lambda x : 1 + np.log(x) if x!=0 else 0)\n",
    "\n",
    "    TF_WightedLog_DF.rename(columns = {'tf':'w-log tf'}, inplace = True)\n",
    "    \n",
    "    return TF_WightedLog_DF"
   ]
  },
  {
   "cell_type": "code",
   "execution_count": 285,
   "metadata": {},
   "outputs": [],
   "source": [
    "def get_Query_IDF_TFIDF(Query_Tokens, TF_WightedLog_DF):\n",
    "    \n",
    "    IDF_TFIDF = pd.DataFrame(index=Query_Tokens, columns= ['idf','tf-idf'])\n",
    "    \n",
    "    for token in Query_Tokens:\n",
    "        IDF_TFIDF.loc[token]['idf'] = IDF.loc[token]['idf']\n",
    "        \n",
    "    TF_IDF = TF_WightedLog_DF['w-log tf'].multiply(IDF_TFIDF['idf'], axis=0)\n",
    "    \n",
    "    IDF_TFIDF['tf-idf'] = TF_IDF\n",
    "\n",
    "    return IDF_TFIDF    "
   ]
  },
  {
   "cell_type": "code",
   "execution_count": 286,
   "metadata": {},
   "outputs": [],
   "source": [
    "def Calculate_QueryLenght(Query_Tokens , TF_IDF):\n",
    "\n",
    "    QueryLenght = pd.DataFrame(index=[0], columns= ['query lenght'])\n",
    "       \n",
    "    QueryLenght['query lenght'] = np.sqrt( TF_IDF.apply(lambda x : x**2 ).sum() )              \n",
    "    \n",
    "    return QueryLenght"
   ]
  },
  {
   "cell_type": "code",
   "execution_count": 287,
   "metadata": {},
   "outputs": [],
   "source": [
    "def Calculate_Query_Norm_TFIDF(TF_IDF, QueryLenght):\n",
    "\n",
    "    Norm_TFIDF = TF_IDF.copy()\n",
    "        \n",
    "    Norm_TFIDF = Norm_TFIDF / QueryLenght.loc[0].values\n",
    "\n",
    "    Norm_TFIDF = pd.DataFrame(Norm_TFIDF)\n",
    "\n",
    "    Norm_TFIDF.rename(columns = {'tf-idf':'normalized tf_idf'}, inplace = True)              \n",
    "    \n",
    "    return pd.DataFrame(Norm_TFIDF)"
   ]
  },
  {
   "cell_type": "markdown",
   "metadata": {},
   "source": [
    "## **Testing Ranked Queries**"
   ]
  },
  {
   "cell_type": "code",
   "execution_count": 288,
   "metadata": {},
   "outputs": [],
   "source": [
    "def get_Similarity_Ranks(query, Norm_TFIDF, Most_Matched_Docs):\n",
    "\n",
    "    # Get Tokens\n",
    "\n",
    "    Query_Tokens = Preprocess_Text(query)\n",
    "\n",
    "    # Vectorize Query\n",
    "\n",
    "    Tf = Calculate_QueryTF(Query_Tokens)\n",
    "    \n",
    "    Tf_wlog = Calculate_Query_TFWeightedLog(Tf)\n",
    "\n",
    "    IDF_TFIDF = get_Query_IDF_TFIDF(Query_Tokens, Tf_wlog)\n",
    "\n",
    "    queryLenght = Calculate_QueryLenght(Query_Tokens, IDF_TFIDF['tf-idf'])\n",
    "\n",
    "    norm_tf_idf = Calculate_Query_Norm_TFIDF(IDF_TFIDF['tf-idf'], queryLenght)\n",
    "\n",
    "    Query_DF = pd.concat([Tf, Tf_wlog, IDF_TFIDF ,norm_tf_idf],axis=1)\n",
    "    \n",
    "\n",
    "    display(Query_DF)\n",
    "    \n",
    "    display(queryLenght)\n",
    "\n",
    "    \n",
    "    # Get Similarity and Ranking\n",
    "\n",
    "    Query_Cosine_Similarity = np.dot( norm_tf_idf.T, Norm_TFIDF.loc[Query_Tokens][Most_Matched_Docs] )\n",
    "\n",
    "    Query_Cosine_Similarity =  pd.DataFrame(Query_Cosine_Similarity.T , columns=['Simialrity'] ,index=Norm_TFIDF.loc[Query_Tokens][Most_Matched_Docs].columns)\n",
    "    \n",
    "    Query_Cosine_Similarity = Query_Cosine_Similarity.sort_values(ascending=False ,by='Simialrity')\n",
    "    \n",
    "    display(Query_Cosine_Similarity)\n",
    "\n",
    "    results = Query_Cosine_Similarity.index  \n",
    "\n",
    "    return results"
   ]
  },
  {
   "cell_type": "code",
   "execution_count": 289,
   "metadata": {},
   "outputs": [
    {
     "data": {
      "text/plain": [
       "['doc1', 'doc2']"
      ]
     },
     "execution_count": 289,
     "metadata": {},
     "output_type": "execute_result"
    }
   ],
   "source": [
    "Postional_results"
   ]
  },
  {
   "cell_type": "code",
   "execution_count": 290,
   "metadata": {},
   "outputs": [
    {
     "data": {
      "text/html": [
       "<div>\n",
       "<style scoped>\n",
       "    .dataframe tbody tr th:only-of-type {\n",
       "        vertical-align: middle;\n",
       "    }\n",
       "\n",
       "    .dataframe tbody tr th {\n",
       "        vertical-align: top;\n",
       "    }\n",
       "\n",
       "    .dataframe thead th {\n",
       "        text-align: right;\n",
       "    }\n",
       "</style>\n",
       "<table border=\"1\" class=\"dataframe\">\n",
       "  <thead>\n",
       "    <tr style=\"text-align: right;\">\n",
       "      <th></th>\n",
       "      <th>tf</th>\n",
       "      <th>w-log tf</th>\n",
       "      <th>idf</th>\n",
       "      <th>tf-idf</th>\n",
       "      <th>normalized tf_idf</th>\n",
       "    </tr>\n",
       "  </thead>\n",
       "  <tbody>\n",
       "    <tr>\n",
       "      <th>antony</th>\n",
       "      <td>1</td>\n",
       "      <td>1.0</td>\n",
       "      <td>0.522879</td>\n",
       "      <td>0.522879</td>\n",
       "      <td>0.707107</td>\n",
       "    </tr>\n",
       "    <tr>\n",
       "      <th>brutus</th>\n",
       "      <td>1</td>\n",
       "      <td>1.0</td>\n",
       "      <td>0.522879</td>\n",
       "      <td>0.522879</td>\n",
       "      <td>0.707107</td>\n",
       "    </tr>\n",
       "  </tbody>\n",
       "</table>\n",
       "</div>"
      ],
      "text/plain": [
       "        tf  w-log tf       idf    tf-idf normalized tf_idf\n",
       "antony   1       1.0  0.522879  0.522879          0.707107\n",
       "brutus   1       1.0  0.522879  0.522879          0.707107"
      ]
     },
     "metadata": {},
     "output_type": "display_data"
    },
    {
     "data": {
      "text/html": [
       "<div>\n",
       "<style scoped>\n",
       "    .dataframe tbody tr th:only-of-type {\n",
       "        vertical-align: middle;\n",
       "    }\n",
       "\n",
       "    .dataframe tbody tr th {\n",
       "        vertical-align: top;\n",
       "    }\n",
       "\n",
       "    .dataframe thead th {\n",
       "        text-align: right;\n",
       "    }\n",
       "</style>\n",
       "<table border=\"1\" class=\"dataframe\">\n",
       "  <thead>\n",
       "    <tr style=\"text-align: right;\">\n",
       "      <th></th>\n",
       "      <th>query lenght</th>\n",
       "    </tr>\n",
       "  </thead>\n",
       "  <tbody>\n",
       "    <tr>\n",
       "      <th>0</th>\n",
       "      <td>0.739462</td>\n",
       "    </tr>\n",
       "  </tbody>\n",
       "</table>\n",
       "</div>"
      ],
      "text/plain": [
       "   query lenght\n",
       "0      0.739462"
      ]
     },
     "metadata": {},
     "output_type": "display_data"
    },
    {
     "data": {
      "text/html": [
       "<div>\n",
       "<style scoped>\n",
       "    .dataframe tbody tr th:only-of-type {\n",
       "        vertical-align: middle;\n",
       "    }\n",
       "\n",
       "    .dataframe tbody tr th {\n",
       "        vertical-align: top;\n",
       "    }\n",
       "\n",
       "    .dataframe thead th {\n",
       "        text-align: right;\n",
       "    }\n",
       "</style>\n",
       "<table border=\"1\" class=\"dataframe\">\n",
       "  <thead>\n",
       "    <tr style=\"text-align: right;\">\n",
       "      <th></th>\n",
       "      <th>Simialrity</th>\n",
       "    </tr>\n",
       "  </thead>\n",
       "  <tbody>\n",
       "    <tr>\n",
       "      <th>doc2</th>\n",
       "      <td>0.577877</td>\n",
       "    </tr>\n",
       "    <tr>\n",
       "      <th>doc1</th>\n",
       "      <td>0.538393</td>\n",
       "    </tr>\n",
       "  </tbody>\n",
       "</table>\n",
       "</div>"
      ],
      "text/plain": [
       "     Simialrity\n",
       "doc2   0.577877\n",
       "doc1   0.538393"
      ]
     },
     "metadata": {},
     "output_type": "display_data"
    }
   ],
   "source": [
    "query = 'antony brutus'\n",
    "\n",
    "results = get_Similarity_Ranks(query, Norm_TFIDF, Postional_results)"
   ]
  },
  {
   "cell_type": "code",
   "execution_count": 291,
   "metadata": {},
   "outputs": [
    {
     "name": "stdout",
     "output_type": "stream",
     "text": [
      "Documents Ranked Based on Similarity: \n",
      "doc2 : antony brutus caeser calpurnia \n",
      "doc1 : antony brutus caeser cleopatra mercy worser\n"
     ]
    }
   ],
   "source": [
    "print('Documents Ranked Based on Similarity: ')\n",
    "\n",
    "Print_ResultFiles(results)"
   ]
  },
  {
   "cell_type": "markdown",
   "metadata": {},
   "source": [
    "# ---------------------------------------------------------------------------------"
   ]
  },
  {
   "cell_type": "markdown",
   "metadata": {},
   "source": [
    "# **Combining Phases**"
   ]
  },
  {
   "cell_type": "code",
   "execution_count": 292,
   "metadata": {},
   "outputs": [],
   "source": [
    "def RunQuery(query):\n",
    "\n",
    "    # Getting Matched Documents From Postional Index\n",
    "\n",
    "    Most_Matched_Docs = get_Postional_Matches(query)\n",
    "\n",
    "    print('Postional Index Matched Documents: ')\n",
    "\n",
    "    Print_ResultFiles(Most_Matched_Docs); print('\\n')\n",
    "\n",
    "    # Getting Documents Ranks from Cosine Similarity\n",
    "\n",
    "    Ranked_Docs = get_Similarity_Ranks(query, Norm_TFIDF, Most_Matched_Docs)\n",
    "\n",
    "    print('Matched Documents Ranked Based on Similarity: ')\n",
    "\n",
    "    Print_ResultFiles(Ranked_Docs)   \n",
    "    \n",
    "    return Ranked_Docs"
   ]
  },
  {
   "cell_type": "code",
   "execution_count": 293,
   "metadata": {},
   "outputs": [
    {
     "name": "stdout",
     "output_type": "stream",
     "text": [
      "Query Tokens : ['antony', 'brutus']\n",
      "Matched Document Files : ['doc1', 'doc2']\n",
      "\n",
      "\n",
      "Postional Index Matched Documents: \n",
      "doc1 : antony brutus caeser cleopatra mercy worser\n",
      "doc2 : antony brutus caeser calpurnia \n",
      "\n",
      "\n"
     ]
    },
    {
     "data": {
      "text/html": [
       "<div>\n",
       "<style scoped>\n",
       "    .dataframe tbody tr th:only-of-type {\n",
       "        vertical-align: middle;\n",
       "    }\n",
       "\n",
       "    .dataframe tbody tr th {\n",
       "        vertical-align: top;\n",
       "    }\n",
       "\n",
       "    .dataframe thead th {\n",
       "        text-align: right;\n",
       "    }\n",
       "</style>\n",
       "<table border=\"1\" class=\"dataframe\">\n",
       "  <thead>\n",
       "    <tr style=\"text-align: right;\">\n",
       "      <th></th>\n",
       "      <th>tf</th>\n",
       "      <th>w-log tf</th>\n",
       "      <th>idf</th>\n",
       "      <th>tf-idf</th>\n",
       "      <th>normalized tf_idf</th>\n",
       "    </tr>\n",
       "  </thead>\n",
       "  <tbody>\n",
       "    <tr>\n",
       "      <th>antony</th>\n",
       "      <td>1</td>\n",
       "      <td>1.0</td>\n",
       "      <td>0.522879</td>\n",
       "      <td>0.522879</td>\n",
       "      <td>0.707107</td>\n",
       "    </tr>\n",
       "    <tr>\n",
       "      <th>brutus</th>\n",
       "      <td>1</td>\n",
       "      <td>1.0</td>\n",
       "      <td>0.522879</td>\n",
       "      <td>0.522879</td>\n",
       "      <td>0.707107</td>\n",
       "    </tr>\n",
       "  </tbody>\n",
       "</table>\n",
       "</div>"
      ],
      "text/plain": [
       "        tf  w-log tf       idf    tf-idf normalized tf_idf\n",
       "antony   1       1.0  0.522879  0.522879          0.707107\n",
       "brutus   1       1.0  0.522879  0.522879          0.707107"
      ]
     },
     "metadata": {},
     "output_type": "display_data"
    },
    {
     "data": {
      "text/html": [
       "<div>\n",
       "<style scoped>\n",
       "    .dataframe tbody tr th:only-of-type {\n",
       "        vertical-align: middle;\n",
       "    }\n",
       "\n",
       "    .dataframe tbody tr th {\n",
       "        vertical-align: top;\n",
       "    }\n",
       "\n",
       "    .dataframe thead th {\n",
       "        text-align: right;\n",
       "    }\n",
       "</style>\n",
       "<table border=\"1\" class=\"dataframe\">\n",
       "  <thead>\n",
       "    <tr style=\"text-align: right;\">\n",
       "      <th></th>\n",
       "      <th>query lenght</th>\n",
       "    </tr>\n",
       "  </thead>\n",
       "  <tbody>\n",
       "    <tr>\n",
       "      <th>0</th>\n",
       "      <td>0.739462</td>\n",
       "    </tr>\n",
       "  </tbody>\n",
       "</table>\n",
       "</div>"
      ],
      "text/plain": [
       "   query lenght\n",
       "0      0.739462"
      ]
     },
     "metadata": {},
     "output_type": "display_data"
    },
    {
     "data": {
      "text/html": [
       "<div>\n",
       "<style scoped>\n",
       "    .dataframe tbody tr th:only-of-type {\n",
       "        vertical-align: middle;\n",
       "    }\n",
       "\n",
       "    .dataframe tbody tr th {\n",
       "        vertical-align: top;\n",
       "    }\n",
       "\n",
       "    .dataframe thead th {\n",
       "        text-align: right;\n",
       "    }\n",
       "</style>\n",
       "<table border=\"1\" class=\"dataframe\">\n",
       "  <thead>\n",
       "    <tr style=\"text-align: right;\">\n",
       "      <th></th>\n",
       "      <th>Simialrity</th>\n",
       "    </tr>\n",
       "  </thead>\n",
       "  <tbody>\n",
       "    <tr>\n",
       "      <th>doc2</th>\n",
       "      <td>0.577877</td>\n",
       "    </tr>\n",
       "    <tr>\n",
       "      <th>doc1</th>\n",
       "      <td>0.538393</td>\n",
       "    </tr>\n",
       "  </tbody>\n",
       "</table>\n",
       "</div>"
      ],
      "text/plain": [
       "     Simialrity\n",
       "doc2   0.577877\n",
       "doc1   0.538393"
      ]
     },
     "metadata": {},
     "output_type": "display_data"
    },
    {
     "name": "stdout",
     "output_type": "stream",
     "text": [
      "Matched Documents Ranked Based on Similarity: \n",
      "doc2 : antony brutus caeser calpurnia \n",
      "doc1 : antony brutus caeser cleopatra mercy worser\n"
     ]
    }
   ],
   "source": [
    "query = 'antony brutus'\n",
    "\n",
    "result = RunQuery(query)"
   ]
  },
  {
   "cell_type": "code",
   "execution_count": null,
   "metadata": {},
   "outputs": [],
   "source": []
  }
 ],
 "metadata": {
  "kernelspec": {
   "display_name": "Python 3 (ipykernel)",
   "language": "python",
   "name": "python3"
  },
  "language_info": {
   "codemirror_mode": {
    "name": "ipython",
    "version": 3
   },
   "file_extension": ".py",
   "mimetype": "text/x-python",
   "name": "python",
   "nbconvert_exporter": "python",
   "pygments_lexer": "ipython3",
   "version": "3.9.7"
  },
  "vscode": {
   "interpreter": {
    "hash": "88033ea6e6aaf353f3d26ef69434bb9b1f089d6b00d896155ae24c39a5d92896"
   }
  }
 },
 "nbformat": 4,
 "nbformat_minor": 2
}
